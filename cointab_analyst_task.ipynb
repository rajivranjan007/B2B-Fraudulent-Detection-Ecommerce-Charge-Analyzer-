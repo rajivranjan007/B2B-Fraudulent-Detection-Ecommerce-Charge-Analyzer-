{
 "cells": [
  {
   "cell_type": "code",
   "execution_count": 1,
   "id": "09336f86",
   "metadata": {
    "ExecuteTime": {
     "end_time": "2023-08-29T10:01:19.999710Z",
     "start_time": "2023-08-29T10:01:19.173433Z"
    }
   },
   "outputs": [],
   "source": [
    "import pandas as pd "
   ]
  },
  {
   "cell_type": "code",
   "execution_count": 2,
   "id": "36dc2309",
   "metadata": {
    "ExecuteTime": {
     "end_time": "2023-08-29T10:01:20.647566Z",
     "start_time": "2023-08-29T10:01:20.010678Z"
    }
   },
   "outputs": [],
   "source": [
    "#loading all the datasets\n",
    "order_report_df = pd.read_excel('Company X - Order Report.xlsx')\n",
    "pincode_zones_df = pd.read_excel('Company X - Pincode Zones.xlsx')\n",
    "sku_master_df = pd.read_excel('Company X - SKU Master.xlsx')\n",
    "courier_invoice_df = pd.read_excel('Courier Company - Invoice.xlsx')\n",
    "courier_rates_df = pd.read_excel('Courier Company - Rates.xlsx')"
   ]
  },
  {
   "cell_type": "code",
   "execution_count": 3,
   "id": "157d69d8",
   "metadata": {
    "ExecuteTime": {
     "end_time": "2023-08-29T10:01:20.679488Z",
     "start_time": "2023-08-29T10:01:20.649568Z"
    }
   },
   "outputs": [
    {
     "data": {
      "text/html": [
       "<div>\n",
       "<style scoped>\n",
       "    .dataframe tbody tr th:only-of-type {\n",
       "        vertical-align: middle;\n",
       "    }\n",
       "\n",
       "    .dataframe tbody tr th {\n",
       "        vertical-align: top;\n",
       "    }\n",
       "\n",
       "    .dataframe thead th {\n",
       "        text-align: right;\n",
       "    }\n",
       "</style>\n",
       "<table border=\"1\" class=\"dataframe\">\n",
       "  <thead>\n",
       "    <tr style=\"text-align: right;\">\n",
       "      <th></th>\n",
       "      <th>ExternOrderNo</th>\n",
       "      <th>SKU</th>\n",
       "      <th>Order Qty</th>\n",
       "      <th>Payment Mode</th>\n",
       "      <th>Item Price(Per Qty.)</th>\n",
       "    </tr>\n",
       "  </thead>\n",
       "  <tbody>\n",
       "    <tr>\n",
       "      <th>0</th>\n",
       "      <td>2001827036</td>\n",
       "      <td>8904223818706</td>\n",
       "      <td>1</td>\n",
       "      <td>COD</td>\n",
       "      <td>233</td>\n",
       "    </tr>\n",
       "    <tr>\n",
       "      <th>1</th>\n",
       "      <td>2001827036</td>\n",
       "      <td>8904223819093</td>\n",
       "      <td>1</td>\n",
       "      <td>COD</td>\n",
       "      <td>233</td>\n",
       "    </tr>\n",
       "    <tr>\n",
       "      <th>2</th>\n",
       "      <td>2001827036</td>\n",
       "      <td>8904223819109</td>\n",
       "      <td>1</td>\n",
       "      <td>COD</td>\n",
       "      <td>233</td>\n",
       "    </tr>\n",
       "    <tr>\n",
       "      <th>3</th>\n",
       "      <td>2001827036</td>\n",
       "      <td>8904223818430</td>\n",
       "      <td>1</td>\n",
       "      <td>COD</td>\n",
       "      <td>470</td>\n",
       "    </tr>\n",
       "    <tr>\n",
       "      <th>4</th>\n",
       "      <td>2001827036</td>\n",
       "      <td>8904223819277</td>\n",
       "      <td>1</td>\n",
       "      <td>COD</td>\n",
       "      <td>233</td>\n",
       "    </tr>\n",
       "  </tbody>\n",
       "</table>\n",
       "</div>"
      ],
      "text/plain": [
       "   ExternOrderNo            SKU  Order Qty Payment Mode  Item Price(Per Qty.)\n",
       "0     2001827036  8904223818706          1          COD                   233\n",
       "1     2001827036  8904223819093          1          COD                   233\n",
       "2     2001827036  8904223819109          1          COD                   233\n",
       "3     2001827036  8904223818430          1          COD                   470\n",
       "4     2001827036  8904223819277          1          COD                   233"
      ]
     },
     "execution_count": 3,
     "metadata": {},
     "output_type": "execute_result"
    }
   ],
   "source": [
    "order_report_df.head()"
   ]
  },
  {
   "cell_type": "code",
   "execution_count": 4,
   "id": "8066518d",
   "metadata": {
    "ExecuteTime": {
     "end_time": "2023-08-29T10:01:20.695444Z",
     "start_time": "2023-08-29T10:01:20.683479Z"
    }
   },
   "outputs": [
    {
     "data": {
      "text/plain": [
       "(400, 5)"
      ]
     },
     "execution_count": 4,
     "metadata": {},
     "output_type": "execute_result"
    }
   ],
   "source": [
    "order_report_df.shape"
   ]
  },
  {
   "cell_type": "code",
   "execution_count": 5,
   "id": "76238453",
   "metadata": {
    "ExecuteTime": {
     "end_time": "2023-08-29T10:01:20.711402Z",
     "start_time": "2023-08-29T10:01:20.698437Z"
    }
   },
   "outputs": [
    {
     "data": {
      "text/html": [
       "<div>\n",
       "<style scoped>\n",
       "    .dataframe tbody tr th:only-of-type {\n",
       "        vertical-align: middle;\n",
       "    }\n",
       "\n",
       "    .dataframe tbody tr th {\n",
       "        vertical-align: top;\n",
       "    }\n",
       "\n",
       "    .dataframe thead th {\n",
       "        text-align: right;\n",
       "    }\n",
       "</style>\n",
       "<table border=\"1\" class=\"dataframe\">\n",
       "  <thead>\n",
       "    <tr style=\"text-align: right;\">\n",
       "      <th></th>\n",
       "      <th>Warehouse Pincode</th>\n",
       "      <th>Customer Pincode</th>\n",
       "      <th>Zone</th>\n",
       "    </tr>\n",
       "  </thead>\n",
       "  <tbody>\n",
       "    <tr>\n",
       "      <th>0</th>\n",
       "      <td>121003</td>\n",
       "      <td>507101</td>\n",
       "      <td>d</td>\n",
       "    </tr>\n",
       "    <tr>\n",
       "      <th>1</th>\n",
       "      <td>121003</td>\n",
       "      <td>486886</td>\n",
       "      <td>d</td>\n",
       "    </tr>\n",
       "    <tr>\n",
       "      <th>2</th>\n",
       "      <td>121003</td>\n",
       "      <td>532484</td>\n",
       "      <td>d</td>\n",
       "    </tr>\n",
       "    <tr>\n",
       "      <th>3</th>\n",
       "      <td>121003</td>\n",
       "      <td>143001</td>\n",
       "      <td>b</td>\n",
       "    </tr>\n",
       "    <tr>\n",
       "      <th>4</th>\n",
       "      <td>121003</td>\n",
       "      <td>515591</td>\n",
       "      <td>d</td>\n",
       "    </tr>\n",
       "  </tbody>\n",
       "</table>\n",
       "</div>"
      ],
      "text/plain": [
       "   Warehouse Pincode  Customer Pincode Zone\n",
       "0             121003            507101    d\n",
       "1             121003            486886    d\n",
       "2             121003            532484    d\n",
       "3             121003            143001    b\n",
       "4             121003            515591    d"
      ]
     },
     "execution_count": 5,
     "metadata": {},
     "output_type": "execute_result"
    }
   ],
   "source": [
    "pincode_zones_df.head()"
   ]
  },
  {
   "cell_type": "code",
   "execution_count": null,
   "id": "6f3d9a07",
   "metadata": {},
   "outputs": [],
   "source": []
  },
  {
   "cell_type": "code",
   "execution_count": 6,
   "id": "991c43a0",
   "metadata": {
    "ExecuteTime": {
     "end_time": "2023-08-29T10:01:20.743318Z",
     "start_time": "2023-08-29T10:01:20.717392Z"
    }
   },
   "outputs": [
    {
     "data": {
      "text/html": [
       "<div>\n",
       "<style scoped>\n",
       "    .dataframe tbody tr th:only-of-type {\n",
       "        vertical-align: middle;\n",
       "    }\n",
       "\n",
       "    .dataframe tbody tr th {\n",
       "        vertical-align: top;\n",
       "    }\n",
       "\n",
       "    .dataframe thead th {\n",
       "        text-align: right;\n",
       "    }\n",
       "</style>\n",
       "<table border=\"1\" class=\"dataframe\">\n",
       "  <thead>\n",
       "    <tr style=\"text-align: right;\">\n",
       "      <th></th>\n",
       "      <th>SKU</th>\n",
       "      <th>Weight (g)</th>\n",
       "    </tr>\n",
       "  </thead>\n",
       "  <tbody>\n",
       "    <tr>\n",
       "      <th>0</th>\n",
       "      <td>8904223815682</td>\n",
       "      <td>210</td>\n",
       "    </tr>\n",
       "    <tr>\n",
       "      <th>1</th>\n",
       "      <td>8904223815859</td>\n",
       "      <td>165</td>\n",
       "    </tr>\n",
       "    <tr>\n",
       "      <th>2</th>\n",
       "      <td>8904223815866</td>\n",
       "      <td>113</td>\n",
       "    </tr>\n",
       "    <tr>\n",
       "      <th>3</th>\n",
       "      <td>8904223815873</td>\n",
       "      <td>65</td>\n",
       "    </tr>\n",
       "    <tr>\n",
       "      <th>4</th>\n",
       "      <td>8904223816214</td>\n",
       "      <td>120</td>\n",
       "    </tr>\n",
       "  </tbody>\n",
       "</table>\n",
       "</div>"
      ],
      "text/plain": [
       "             SKU  Weight (g)\n",
       "0  8904223815682         210\n",
       "1  8904223815859         165\n",
       "2  8904223815866         113\n",
       "3  8904223815873          65\n",
       "4  8904223816214         120"
      ]
     },
     "execution_count": 6,
     "metadata": {},
     "output_type": "execute_result"
    }
   ],
   "source": [
    "sku_master_df.head()"
   ]
  },
  {
   "cell_type": "code",
   "execution_count": 7,
   "id": "00f4c514",
   "metadata": {
    "ExecuteTime": {
     "end_time": "2023-08-29T10:01:20.775233Z",
     "start_time": "2023-08-29T10:01:20.752294Z"
    }
   },
   "outputs": [
    {
     "data": {
      "text/html": [
       "<div>\n",
       "<style scoped>\n",
       "    .dataframe tbody tr th:only-of-type {\n",
       "        vertical-align: middle;\n",
       "    }\n",
       "\n",
       "    .dataframe tbody tr th {\n",
       "        vertical-align: top;\n",
       "    }\n",
       "\n",
       "    .dataframe thead th {\n",
       "        text-align: right;\n",
       "    }\n",
       "</style>\n",
       "<table border=\"1\" class=\"dataframe\">\n",
       "  <thead>\n",
       "    <tr style=\"text-align: right;\">\n",
       "      <th></th>\n",
       "      <th>AWB Code</th>\n",
       "      <th>Order ID</th>\n",
       "      <th>Charged Weight</th>\n",
       "      <th>Warehouse Pincode</th>\n",
       "      <th>Customer Pincode</th>\n",
       "      <th>Zone</th>\n",
       "      <th>Type of Shipment</th>\n",
       "      <th>Billing Amount (Rs.)</th>\n",
       "    </tr>\n",
       "  </thead>\n",
       "  <tbody>\n",
       "    <tr>\n",
       "      <th>0</th>\n",
       "      <td>1091117222124</td>\n",
       "      <td>2001806232</td>\n",
       "      <td>1.30</td>\n",
       "      <td>121003</td>\n",
       "      <td>507101</td>\n",
       "      <td>d</td>\n",
       "      <td>Forward charges</td>\n",
       "      <td>140.0</td>\n",
       "    </tr>\n",
       "    <tr>\n",
       "      <th>1</th>\n",
       "      <td>1091117222194</td>\n",
       "      <td>2001806273</td>\n",
       "      <td>1.00</td>\n",
       "      <td>121003</td>\n",
       "      <td>486886</td>\n",
       "      <td>d</td>\n",
       "      <td>Forward charges</td>\n",
       "      <td>101.2</td>\n",
       "    </tr>\n",
       "    <tr>\n",
       "      <th>2</th>\n",
       "      <td>1091117222931</td>\n",
       "      <td>2001806408</td>\n",
       "      <td>2.50</td>\n",
       "      <td>121003</td>\n",
       "      <td>532484</td>\n",
       "      <td>d</td>\n",
       "      <td>Forward charges</td>\n",
       "      <td>224.6</td>\n",
       "    </tr>\n",
       "    <tr>\n",
       "      <th>3</th>\n",
       "      <td>1091117223244</td>\n",
       "      <td>2001806458</td>\n",
       "      <td>1.00</td>\n",
       "      <td>121003</td>\n",
       "      <td>143001</td>\n",
       "      <td>b</td>\n",
       "      <td>Forward charges</td>\n",
       "      <td>61.3</td>\n",
       "    </tr>\n",
       "    <tr>\n",
       "      <th>4</th>\n",
       "      <td>1091117229345</td>\n",
       "      <td>2001807012</td>\n",
       "      <td>0.15</td>\n",
       "      <td>121003</td>\n",
       "      <td>515591</td>\n",
       "      <td>d</td>\n",
       "      <td>Forward charges</td>\n",
       "      <td>45.4</td>\n",
       "    </tr>\n",
       "  </tbody>\n",
       "</table>\n",
       "</div>"
      ],
      "text/plain": [
       "        AWB Code    Order ID  Charged Weight  Warehouse Pincode  \\\n",
       "0  1091117222124  2001806232            1.30             121003   \n",
       "1  1091117222194  2001806273            1.00             121003   \n",
       "2  1091117222931  2001806408            2.50             121003   \n",
       "3  1091117223244  2001806458            1.00             121003   \n",
       "4  1091117229345  2001807012            0.15             121003   \n",
       "\n",
       "   Customer Pincode Zone Type of Shipment  Billing Amount (Rs.)  \n",
       "0            507101    d  Forward charges                 140.0  \n",
       "1            486886    d  Forward charges                 101.2  \n",
       "2            532484    d  Forward charges                 224.6  \n",
       "3            143001    b  Forward charges                  61.3  \n",
       "4            515591    d  Forward charges                  45.4  "
      ]
     },
     "execution_count": 7,
     "metadata": {},
     "output_type": "execute_result"
    }
   ],
   "source": [
    "courier_invoice_df.head()"
   ]
  },
  {
   "cell_type": "code",
   "execution_count": 8,
   "id": "ae1d10e8",
   "metadata": {
    "ExecuteTime": {
     "end_time": "2023-08-29T10:01:20.806149Z",
     "start_time": "2023-08-29T10:01:20.779221Z"
    }
   },
   "outputs": [
    {
     "data": {
      "text/html": [
       "<div>\n",
       "<style scoped>\n",
       "    .dataframe tbody tr th:only-of-type {\n",
       "        vertical-align: middle;\n",
       "    }\n",
       "\n",
       "    .dataframe tbody tr th {\n",
       "        vertical-align: top;\n",
       "    }\n",
       "\n",
       "    .dataframe thead th {\n",
       "        text-align: right;\n",
       "    }\n",
       "</style>\n",
       "<table border=\"1\" class=\"dataframe\">\n",
       "  <thead>\n",
       "    <tr style=\"text-align: right;\">\n",
       "      <th></th>\n",
       "      <th>Zone</th>\n",
       "      <th>Weight Slabs</th>\n",
       "      <th>Forward Fixed Charge</th>\n",
       "      <th>Forward Additional Weight Slab Charge</th>\n",
       "      <th>RTO Fixed Charge</th>\n",
       "      <th>RTO Additional Weight Slab Charge</th>\n",
       "    </tr>\n",
       "  </thead>\n",
       "  <tbody>\n",
       "    <tr>\n",
       "      <th>0</th>\n",
       "      <td>A</td>\n",
       "      <td>0.25</td>\n",
       "      <td>29.5</td>\n",
       "      <td>23.6</td>\n",
       "      <td>13.6</td>\n",
       "      <td>23.6</td>\n",
       "    </tr>\n",
       "    <tr>\n",
       "      <th>1</th>\n",
       "      <td>B</td>\n",
       "      <td>0.50</td>\n",
       "      <td>33.0</td>\n",
       "      <td>28.3</td>\n",
       "      <td>20.5</td>\n",
       "      <td>28.3</td>\n",
       "    </tr>\n",
       "    <tr>\n",
       "      <th>2</th>\n",
       "      <td>C</td>\n",
       "      <td>0.75</td>\n",
       "      <td>40.1</td>\n",
       "      <td>38.9</td>\n",
       "      <td>31.9</td>\n",
       "      <td>38.9</td>\n",
       "    </tr>\n",
       "    <tr>\n",
       "      <th>3</th>\n",
       "      <td>D</td>\n",
       "      <td>1.25</td>\n",
       "      <td>45.4</td>\n",
       "      <td>44.8</td>\n",
       "      <td>41.3</td>\n",
       "      <td>44.8</td>\n",
       "    </tr>\n",
       "    <tr>\n",
       "      <th>4</th>\n",
       "      <td>E</td>\n",
       "      <td>1.50</td>\n",
       "      <td>56.6</td>\n",
       "      <td>55.5</td>\n",
       "      <td>50.7</td>\n",
       "      <td>55.5</td>\n",
       "    </tr>\n",
       "  </tbody>\n",
       "</table>\n",
       "</div>"
      ],
      "text/plain": [
       "  Zone  Weight Slabs  Forward Fixed Charge  \\\n",
       "0    A          0.25                  29.5   \n",
       "1    B          0.50                  33.0   \n",
       "2    C          0.75                  40.1   \n",
       "3    D          1.25                  45.4   \n",
       "4    E          1.50                  56.6   \n",
       "\n",
       "   Forward Additional Weight Slab Charge  RTO Fixed Charge  \\\n",
       "0                                   23.6              13.6   \n",
       "1                                   28.3              20.5   \n",
       "2                                   38.9              31.9   \n",
       "3                                   44.8              41.3   \n",
       "4                                   55.5              50.7   \n",
       "\n",
       "   RTO Additional Weight Slab Charge  \n",
       "0                               23.6  \n",
       "1                               28.3  \n",
       "2                               38.9  \n",
       "3                               44.8  \n",
       "4                               55.5  "
      ]
     },
     "execution_count": 8,
     "metadata": {},
     "output_type": "execute_result"
    }
   ],
   "source": [
    "courier_rates_df.head()"
   ]
  },
  {
   "cell_type": "code",
   "execution_count": 9,
   "id": "32370063",
   "metadata": {
    "ExecuteTime": {
     "end_time": "2023-08-29T10:01:20.915856Z",
     "start_time": "2023-08-29T10:01:20.809141Z"
    }
   },
   "outputs": [
    {
     "data": {
      "text/html": [
       "<div>\n",
       "<style scoped>\n",
       "    .dataframe tbody tr th:only-of-type {\n",
       "        vertical-align: middle;\n",
       "    }\n",
       "\n",
       "    .dataframe tbody tr th {\n",
       "        vertical-align: top;\n",
       "    }\n",
       "\n",
       "    .dataframe thead th {\n",
       "        text-align: right;\n",
       "    }\n",
       "</style>\n",
       "<table border=\"1\" class=\"dataframe\">\n",
       "  <thead>\n",
       "    <tr style=\"text-align: right;\">\n",
       "      <th></th>\n",
       "      <th>Zone</th>\n",
       "      <th>Weight Slabs</th>\n",
       "      <th>Forward Fixed Charge</th>\n",
       "      <th>Forward Additional Weight Slab Charge</th>\n",
       "      <th>RTO Fixed Charge</th>\n",
       "      <th>RTO Additional Weight Slab Charge</th>\n",
       "    </tr>\n",
       "  </thead>\n",
       "  <tbody>\n",
       "    <tr>\n",
       "      <th>0</th>\n",
       "      <td>A</td>\n",
       "      <td>0.25</td>\n",
       "      <td>29.5</td>\n",
       "      <td>23.6</td>\n",
       "      <td>13.6</td>\n",
       "      <td>23.6</td>\n",
       "    </tr>\n",
       "    <tr>\n",
       "      <th>1</th>\n",
       "      <td>B</td>\n",
       "      <td>0.50</td>\n",
       "      <td>33.0</td>\n",
       "      <td>28.3</td>\n",
       "      <td>20.5</td>\n",
       "      <td>28.3</td>\n",
       "    </tr>\n",
       "    <tr>\n",
       "      <th>2</th>\n",
       "      <td>C</td>\n",
       "      <td>0.75</td>\n",
       "      <td>40.1</td>\n",
       "      <td>38.9</td>\n",
       "      <td>31.9</td>\n",
       "      <td>38.9</td>\n",
       "    </tr>\n",
       "    <tr>\n",
       "      <th>3</th>\n",
       "      <td>D</td>\n",
       "      <td>1.25</td>\n",
       "      <td>45.4</td>\n",
       "      <td>44.8</td>\n",
       "      <td>41.3</td>\n",
       "      <td>44.8</td>\n",
       "    </tr>\n",
       "    <tr>\n",
       "      <th>4</th>\n",
       "      <td>E</td>\n",
       "      <td>1.50</td>\n",
       "      <td>56.6</td>\n",
       "      <td>55.5</td>\n",
       "      <td>50.7</td>\n",
       "      <td>55.5</td>\n",
       "    </tr>\n",
       "  </tbody>\n",
       "</table>\n",
       "</div>"
      ],
      "text/plain": [
       "  Zone  Weight Slabs  Forward Fixed Charge  \\\n",
       "0    A          0.25                  29.5   \n",
       "1    B          0.50                  33.0   \n",
       "2    C          0.75                  40.1   \n",
       "3    D          1.25                  45.4   \n",
       "4    E          1.50                  56.6   \n",
       "\n",
       "   Forward Additional Weight Slab Charge  RTO Fixed Charge  \\\n",
       "0                                   23.6              13.6   \n",
       "1                                   28.3              20.5   \n",
       "2                                   38.9              31.9   \n",
       "3                                   44.8              41.3   \n",
       "4                                   55.5              50.7   \n",
       "\n",
       "   RTO Additional Weight Slab Charge  \n",
       "0                               23.6  \n",
       "1                               28.3  \n",
       "2                               38.9  \n",
       "3                               44.8  \n",
       "4                               55.5  "
      ]
     },
     "execution_count": 9,
     "metadata": {},
     "output_type": "execute_result"
    }
   ],
   "source": [
    "courier_rates_df.head()"
   ]
  },
  {
   "cell_type": "code",
   "execution_count": 10,
   "id": "ed7b4a7a",
   "metadata": {
    "ExecuteTime": {
     "end_time": "2023-08-29T10:01:20.931813Z",
     "start_time": "2023-08-29T10:01:20.921840Z"
    }
   },
   "outputs": [],
   "source": [
    "#checking for the null values"
   ]
  },
  {
   "cell_type": "code",
   "execution_count": 11,
   "id": "cf39ea6d",
   "metadata": {
    "ExecuteTime": {
     "end_time": "2023-08-29T10:01:20.963727Z",
     "start_time": "2023-08-29T10:01:20.945776Z"
    }
   },
   "outputs": [
    {
     "data": {
      "text/plain": [
       "ExternOrderNo           0\n",
       "SKU                     0\n",
       "Order Qty               0\n",
       "Payment Mode            0\n",
       "Item Price(Per Qty.)    0\n",
       "dtype: int64"
      ]
     },
     "execution_count": 11,
     "metadata": {},
     "output_type": "execute_result"
    }
   ],
   "source": [
    "order_report_df.isnull().sum()"
   ]
  },
  {
   "cell_type": "code",
   "execution_count": 12,
   "id": "531a1f03",
   "metadata": {
    "ExecuteTime": {
     "end_time": "2023-08-29T10:01:20.996640Z",
     "start_time": "2023-08-29T10:01:20.967717Z"
    }
   },
   "outputs": [
    {
     "data": {
      "text/plain": [
       "Warehouse Pincode    0\n",
       "Customer Pincode     0\n",
       "Zone                 0\n",
       "dtype: int64"
      ]
     },
     "execution_count": 12,
     "metadata": {},
     "output_type": "execute_result"
    }
   ],
   "source": [
    "pincode_zones_df.isnull().sum()"
   ]
  },
  {
   "cell_type": "code",
   "execution_count": 13,
   "id": "c836873e",
   "metadata": {
    "ExecuteTime": {
     "end_time": "2023-08-29T10:01:21.027557Z",
     "start_time": "2023-08-29T10:01:21.005616Z"
    }
   },
   "outputs": [
    {
     "data": {
      "text/plain": [
       "SKU           0\n",
       "Weight (g)    0\n",
       "dtype: int64"
      ]
     },
     "execution_count": 13,
     "metadata": {},
     "output_type": "execute_result"
    }
   ],
   "source": [
    "sku_master_df.isnull().sum()"
   ]
  },
  {
   "cell_type": "code",
   "execution_count": 14,
   "id": "d32882b2",
   "metadata": {
    "ExecuteTime": {
     "end_time": "2023-08-29T10:01:21.042517Z",
     "start_time": "2023-08-29T10:01:21.030549Z"
    }
   },
   "outputs": [
    {
     "data": {
      "text/plain": [
       "AWB Code                0\n",
       "Order ID                0\n",
       "Charged Weight          0\n",
       "Warehouse Pincode       0\n",
       "Customer Pincode        0\n",
       "Zone                    0\n",
       "Type of Shipment        0\n",
       "Billing Amount (Rs.)    0\n",
       "dtype: int64"
      ]
     },
     "execution_count": 14,
     "metadata": {},
     "output_type": "execute_result"
    }
   ],
   "source": [
    "courier_invoice_df.isnull().sum()"
   ]
  },
  {
   "cell_type": "code",
   "execution_count": 15,
   "id": "00cb6518",
   "metadata": {
    "ExecuteTime": {
     "end_time": "2023-08-29T10:01:21.136265Z",
     "start_time": "2023-08-29T10:01:21.047508Z"
    }
   },
   "outputs": [
    {
     "data": {
      "text/plain": [
       "Zone                                     0\n",
       "Weight Slabs                             0\n",
       "Forward Fixed Charge                     0\n",
       "Forward Additional Weight Slab Charge    0\n",
       "RTO Fixed Charge                         0\n",
       "RTO Additional Weight Slab Charge        0\n",
       "dtype: int64"
      ]
     },
     "execution_count": 15,
     "metadata": {},
     "output_type": "execute_result"
    }
   ],
   "source": [
    "courier_rates_df.isnull().sum()"
   ]
  },
  {
   "cell_type": "code",
   "execution_count": 16,
   "id": "3839a1b0",
   "metadata": {
    "ExecuteTime": {
     "end_time": "2023-08-29T10:01:21.152235Z",
     "start_time": "2023-08-29T10:01:21.139258Z"
    }
   },
   "outputs": [],
   "source": [
    "#there is no null value in any dataset"
   ]
  },
  {
   "cell_type": "code",
   "execution_count": 17,
   "id": "ea83a827",
   "metadata": {
    "ExecuteTime": {
     "end_time": "2023-08-29T10:01:21.182143Z",
     "start_time": "2023-08-29T10:01:21.159206Z"
    }
   },
   "outputs": [],
   "source": [
    "#rename the zone column to zone_x in order_report_df and in courier_invoice_df zone to zone_c"
   ]
  },
  {
   "cell_type": "code",
   "execution_count": 18,
   "id": "5cbec71a",
   "metadata": {
    "ExecuteTime": {
     "end_time": "2023-08-29T10:01:21.213061Z",
     "start_time": "2023-08-29T10:01:21.188128Z"
    }
   },
   "outputs": [],
   "source": [
    "pincode_zones_df.rename(columns={'Zone': 'zone_x'}, inplace=True)"
   ]
  },
  {
   "cell_type": "code",
   "execution_count": 19,
   "id": "295ebf35",
   "metadata": {
    "ExecuteTime": {
     "end_time": "2023-08-29T10:01:21.229020Z",
     "start_time": "2023-08-29T10:01:21.216053Z"
    }
   },
   "outputs": [],
   "source": [
    "courier_invoice_df.rename(columns={'Zone': 'zone_c'}, inplace=True)"
   ]
  },
  {
   "cell_type": "code",
   "execution_count": 20,
   "id": "cef31ce7",
   "metadata": {
    "ExecuteTime": {
     "end_time": "2023-08-29T10:01:21.259934Z",
     "start_time": "2023-08-29T10:01:21.232010Z"
    }
   },
   "outputs": [
    {
     "data": {
      "text/html": [
       "<div>\n",
       "<style scoped>\n",
       "    .dataframe tbody tr th:only-of-type {\n",
       "        vertical-align: middle;\n",
       "    }\n",
       "\n",
       "    .dataframe tbody tr th {\n",
       "        vertical-align: top;\n",
       "    }\n",
       "\n",
       "    .dataframe thead th {\n",
       "        text-align: right;\n",
       "    }\n",
       "</style>\n",
       "<table border=\"1\" class=\"dataframe\">\n",
       "  <thead>\n",
       "    <tr style=\"text-align: right;\">\n",
       "      <th></th>\n",
       "      <th>ExternOrderNo</th>\n",
       "      <th>SKU</th>\n",
       "      <th>Order Qty</th>\n",
       "      <th>Payment Mode</th>\n",
       "      <th>Item Price(Per Qty.)</th>\n",
       "    </tr>\n",
       "  </thead>\n",
       "  <tbody>\n",
       "    <tr>\n",
       "      <th>0</th>\n",
       "      <td>2001827036</td>\n",
       "      <td>8904223818706</td>\n",
       "      <td>1</td>\n",
       "      <td>COD</td>\n",
       "      <td>233</td>\n",
       "    </tr>\n",
       "    <tr>\n",
       "      <th>1</th>\n",
       "      <td>2001827036</td>\n",
       "      <td>8904223819093</td>\n",
       "      <td>1</td>\n",
       "      <td>COD</td>\n",
       "      <td>233</td>\n",
       "    </tr>\n",
       "    <tr>\n",
       "      <th>2</th>\n",
       "      <td>2001827036</td>\n",
       "      <td>8904223819109</td>\n",
       "      <td>1</td>\n",
       "      <td>COD</td>\n",
       "      <td>233</td>\n",
       "    </tr>\n",
       "    <tr>\n",
       "      <th>3</th>\n",
       "      <td>2001827036</td>\n",
       "      <td>8904223818430</td>\n",
       "      <td>1</td>\n",
       "      <td>COD</td>\n",
       "      <td>470</td>\n",
       "    </tr>\n",
       "    <tr>\n",
       "      <th>4</th>\n",
       "      <td>2001827036</td>\n",
       "      <td>8904223819277</td>\n",
       "      <td>1</td>\n",
       "      <td>COD</td>\n",
       "      <td>233</td>\n",
       "    </tr>\n",
       "  </tbody>\n",
       "</table>\n",
       "</div>"
      ],
      "text/plain": [
       "   ExternOrderNo            SKU  Order Qty Payment Mode  Item Price(Per Qty.)\n",
       "0     2001827036  8904223818706          1          COD                   233\n",
       "1     2001827036  8904223819093          1          COD                   233\n",
       "2     2001827036  8904223819109          1          COD                   233\n",
       "3     2001827036  8904223818430          1          COD                   470\n",
       "4     2001827036  8904223819277          1          COD                   233"
      ]
     },
     "execution_count": 20,
     "metadata": {},
     "output_type": "execute_result"
    }
   ],
   "source": [
    "order_report_df.head()"
   ]
  },
  {
   "cell_type": "code",
   "execution_count": 21,
   "id": "b0d98fda",
   "metadata": {
    "ExecuteTime": {
     "end_time": "2023-08-29T10:01:21.275892Z",
     "start_time": "2023-08-29T10:01:21.264923Z"
    }
   },
   "outputs": [],
   "source": [
    "#ExternOrderNo to Order ID"
   ]
  },
  {
   "cell_type": "code",
   "execution_count": 22,
   "id": "00ddd340",
   "metadata": {
    "ExecuteTime": {
     "end_time": "2023-08-29T10:01:21.306810Z",
     "start_time": "2023-08-29T10:01:21.284885Z"
    }
   },
   "outputs": [],
   "source": [
    "order_report_df.rename(columns={'ExternOrderNo': 'Order ID'}, inplace=True)"
   ]
  },
  {
   "cell_type": "code",
   "execution_count": null,
   "id": "70307861",
   "metadata": {},
   "outputs": [],
   "source": []
  },
  {
   "cell_type": "code",
   "execution_count": null,
   "id": "7b8a4868",
   "metadata": {},
   "outputs": [],
   "source": []
  },
  {
   "cell_type": "code",
   "execution_count": 23,
   "id": "797e89d4",
   "metadata": {
    "ExecuteTime": {
     "end_time": "2023-08-29T10:01:21.322766Z",
     "start_time": "2023-08-29T10:01:21.312795Z"
    }
   },
   "outputs": [],
   "source": [
    "#merging the data based on common value"
   ]
  },
  {
   "cell_type": "code",
   "execution_count": 24,
   "id": "8be20ebe",
   "metadata": {
    "ExecuteTime": {
     "end_time": "2023-08-29T10:01:21.354334Z",
     "start_time": "2023-08-29T10:01:21.329754Z"
    }
   },
   "outputs": [],
   "source": [
    "df_merged = pd.merge(order_report_df, sku_master_df, how=\"left\", on=\"SKU\")"
   ]
  },
  {
   "cell_type": "code",
   "execution_count": 25,
   "id": "b2b7d88b",
   "metadata": {
    "ExecuteTime": {
     "end_time": "2023-08-29T10:01:21.386260Z",
     "start_time": "2023-08-29T10:01:21.361322Z"
    }
   },
   "outputs": [
    {
     "data": {
      "text/html": [
       "<div>\n",
       "<style scoped>\n",
       "    .dataframe tbody tr th:only-of-type {\n",
       "        vertical-align: middle;\n",
       "    }\n",
       "\n",
       "    .dataframe tbody tr th {\n",
       "        vertical-align: top;\n",
       "    }\n",
       "\n",
       "    .dataframe thead th {\n",
       "        text-align: right;\n",
       "    }\n",
       "</style>\n",
       "<table border=\"1\" class=\"dataframe\">\n",
       "  <thead>\n",
       "    <tr style=\"text-align: right;\">\n",
       "      <th></th>\n",
       "      <th>Order ID</th>\n",
       "      <th>SKU</th>\n",
       "      <th>Order Qty</th>\n",
       "      <th>Payment Mode</th>\n",
       "      <th>Item Price(Per Qty.)</th>\n",
       "      <th>Weight (g)</th>\n",
       "    </tr>\n",
       "  </thead>\n",
       "  <tbody>\n",
       "    <tr>\n",
       "      <th>0</th>\n",
       "      <td>2001827036</td>\n",
       "      <td>8904223818706</td>\n",
       "      <td>1</td>\n",
       "      <td>COD</td>\n",
       "      <td>233</td>\n",
       "      <td>127</td>\n",
       "    </tr>\n",
       "    <tr>\n",
       "      <th>1</th>\n",
       "      <td>2001827036</td>\n",
       "      <td>8904223819093</td>\n",
       "      <td>1</td>\n",
       "      <td>COD</td>\n",
       "      <td>233</td>\n",
       "      <td>150</td>\n",
       "    </tr>\n",
       "    <tr>\n",
       "      <th>2</th>\n",
       "      <td>2001827036</td>\n",
       "      <td>8904223819109</td>\n",
       "      <td>1</td>\n",
       "      <td>COD</td>\n",
       "      <td>233</td>\n",
       "      <td>100</td>\n",
       "    </tr>\n",
       "    <tr>\n",
       "      <th>3</th>\n",
       "      <td>2001827036</td>\n",
       "      <td>8904223818430</td>\n",
       "      <td>1</td>\n",
       "      <td>COD</td>\n",
       "      <td>470</td>\n",
       "      <td>165</td>\n",
       "    </tr>\n",
       "    <tr>\n",
       "      <th>4</th>\n",
       "      <td>2001827036</td>\n",
       "      <td>8904223819277</td>\n",
       "      <td>1</td>\n",
       "      <td>COD</td>\n",
       "      <td>233</td>\n",
       "      <td>350</td>\n",
       "    </tr>\n",
       "  </tbody>\n",
       "</table>\n",
       "</div>"
      ],
      "text/plain": [
       "     Order ID            SKU  Order Qty Payment Mode  Item Price(Per Qty.)  \\\n",
       "0  2001827036  8904223818706          1          COD                   233   \n",
       "1  2001827036  8904223819093          1          COD                   233   \n",
       "2  2001827036  8904223819109          1          COD                   233   \n",
       "3  2001827036  8904223818430          1          COD                   470   \n",
       "4  2001827036  8904223819277          1          COD                   233   \n",
       "\n",
       "   Weight (g)  \n",
       "0         127  \n",
       "1         150  \n",
       "2         100  \n",
       "3         165  \n",
       "4         350  "
      ]
     },
     "execution_count": 25,
     "metadata": {},
     "output_type": "execute_result"
    }
   ],
   "source": [
    "df_merged.head()"
   ]
  },
  {
   "cell_type": "code",
   "execution_count": 26,
   "id": "c6514f4c",
   "metadata": {
    "ExecuteTime": {
     "end_time": "2023-08-29T10:01:21.418171Z",
     "start_time": "2023-08-29T10:01:21.388249Z"
    }
   },
   "outputs": [
    {
     "name": "stdout",
     "output_type": "stream",
     "text": [
      "<class 'pandas.core.frame.DataFrame'>\n",
      "Int64Index: 401 entries, 0 to 400\n",
      "Data columns (total 6 columns):\n",
      " #   Column                Non-Null Count  Dtype \n",
      "---  ------                --------------  ----- \n",
      " 0   Order ID              401 non-null    int64 \n",
      " 1   SKU                   401 non-null    object\n",
      " 2   Order Qty             401 non-null    int64 \n",
      " 3   Payment Mode          401 non-null    object\n",
      " 4   Item Price(Per Qty.)  401 non-null    int64 \n",
      " 5   Weight (g)            401 non-null    int64 \n",
      "dtypes: int64(4), object(2)\n",
      "memory usage: 21.9+ KB\n"
     ]
    }
   ],
   "source": [
    "df_merged.info()"
   ]
  },
  {
   "cell_type": "code",
   "execution_count": 27,
   "id": "daa02aeb",
   "metadata": {
    "ExecuteTime": {
     "end_time": "2023-08-29T10:01:21.448603Z",
     "start_time": "2023-08-29T10:01:21.427146Z"
    }
   },
   "outputs": [],
   "source": [
    "# Create a DataFrame with unique customer pincodes\n",
    "df_x_pincode_zones = pincode_zones_df.drop_duplicates(subset=['Customer Pincode'])"
   ]
  },
  {
   "cell_type": "code",
   "execution_count": 28,
   "id": "6361ce54",
   "metadata": {
    "ExecuteTime": {
     "end_time": "2023-08-29T10:01:21.480549Z",
     "start_time": "2023-08-29T10:01:21.470547Z"
    }
   },
   "outputs": [],
   "source": [
    "# Create a DataFrame with selected columns from the courier invoice data\n",
    "df_x_courier = courier_invoice_df[['Order ID', 'Customer Pincode', 'Type of Shipment']]"
   ]
  },
  {
   "cell_type": "code",
   "execution_count": 29,
   "id": "883cecc8",
   "metadata": {
    "ExecuteTime": {
     "end_time": "2023-08-29T10:01:21.510442Z",
     "start_time": "2023-08-29T10:01:21.485505Z"
    }
   },
   "outputs": [],
   "source": [
    "# Merge the courier data with the pincode zone data based on customer pincodes\n",
    "df_x_pincode_zones_merged = df_x_courier.merge(df_x_pincode_zones, on='Customer Pincode')"
   ]
  },
  {
   "cell_type": "code",
   "execution_count": 30,
   "id": "439b2894",
   "metadata": {
    "ExecuteTime": {
     "end_time": "2023-08-29T10:01:21.558882Z",
     "start_time": "2023-08-29T10:01:21.520413Z"
    }
   },
   "outputs": [
    {
     "data": {
      "text/html": [
       "<div>\n",
       "<style scoped>\n",
       "    .dataframe tbody tr th:only-of-type {\n",
       "        vertical-align: middle;\n",
       "    }\n",
       "\n",
       "    .dataframe tbody tr th {\n",
       "        vertical-align: top;\n",
       "    }\n",
       "\n",
       "    .dataframe thead th {\n",
       "        text-align: right;\n",
       "    }\n",
       "</style>\n",
       "<table border=\"1\" class=\"dataframe\">\n",
       "  <thead>\n",
       "    <tr style=\"text-align: right;\">\n",
       "      <th></th>\n",
       "      <th>Order ID</th>\n",
       "      <th>Customer Pincode</th>\n",
       "      <th>Type of Shipment</th>\n",
       "      <th>Warehouse Pincode</th>\n",
       "      <th>zone_x</th>\n",
       "    </tr>\n",
       "  </thead>\n",
       "  <tbody>\n",
       "    <tr>\n",
       "      <th>0</th>\n",
       "      <td>2001806232</td>\n",
       "      <td>507101</td>\n",
       "      <td>Forward charges</td>\n",
       "      <td>121003</td>\n",
       "      <td>d</td>\n",
       "    </tr>\n",
       "    <tr>\n",
       "      <th>1</th>\n",
       "      <td>2001806273</td>\n",
       "      <td>486886</td>\n",
       "      <td>Forward charges</td>\n",
       "      <td>121003</td>\n",
       "      <td>d</td>\n",
       "    </tr>\n",
       "    <tr>\n",
       "      <th>2</th>\n",
       "      <td>2001806408</td>\n",
       "      <td>532484</td>\n",
       "      <td>Forward charges</td>\n",
       "      <td>121003</td>\n",
       "      <td>d</td>\n",
       "    </tr>\n",
       "    <tr>\n",
       "      <th>3</th>\n",
       "      <td>2001806458</td>\n",
       "      <td>143001</td>\n",
       "      <td>Forward charges</td>\n",
       "      <td>121003</td>\n",
       "      <td>b</td>\n",
       "    </tr>\n",
       "    <tr>\n",
       "      <th>4</th>\n",
       "      <td>2001807012</td>\n",
       "      <td>515591</td>\n",
       "      <td>Forward charges</td>\n",
       "      <td>121003</td>\n",
       "      <td>d</td>\n",
       "    </tr>\n",
       "  </tbody>\n",
       "</table>\n",
       "</div>"
      ],
      "text/plain": [
       "     Order ID  Customer Pincode Type of Shipment  Warehouse Pincode zone_x\n",
       "0  2001806232            507101  Forward charges             121003      d\n",
       "1  2001806273            486886  Forward charges             121003      d\n",
       "2  2001806408            532484  Forward charges             121003      d\n",
       "3  2001806458            143001  Forward charges             121003      b\n",
       "4  2001807012            515591  Forward charges             121003      d"
      ]
     },
     "execution_count": 30,
     "metadata": {},
     "output_type": "execute_result"
    }
   ],
   "source": [
    "df_x_pincode_zones_merged.head()"
   ]
  },
  {
   "cell_type": "code",
   "execution_count": 31,
   "id": "6b90b0f3",
   "metadata": {
    "ExecuteTime": {
     "end_time": "2023-08-29T10:01:21.589798Z",
     "start_time": "2023-08-29T10:01:21.567857Z"
    }
   },
   "outputs": [],
   "source": [
    "df_x_sku_inorder = df_merged.merge(df_x_pincode_zones_merged, on='Order ID')"
   ]
  },
  {
   "cell_type": "code",
   "execution_count": 32,
   "id": "aa97b785",
   "metadata": {
    "ExecuteTime": {
     "end_time": "2023-08-29T10:01:21.652628Z",
     "start_time": "2023-08-29T10:01:21.604758Z"
    }
   },
   "outputs": [
    {
     "data": {
      "text/html": [
       "<div>\n",
       "<style scoped>\n",
       "    .dataframe tbody tr th:only-of-type {\n",
       "        vertical-align: middle;\n",
       "    }\n",
       "\n",
       "    .dataframe tbody tr th {\n",
       "        vertical-align: top;\n",
       "    }\n",
       "\n",
       "    .dataframe thead th {\n",
       "        text-align: right;\n",
       "    }\n",
       "</style>\n",
       "<table border=\"1\" class=\"dataframe\">\n",
       "  <thead>\n",
       "    <tr style=\"text-align: right;\">\n",
       "      <th></th>\n",
       "      <th>Order ID</th>\n",
       "      <th>SKU</th>\n",
       "      <th>Order Qty</th>\n",
       "      <th>Payment Mode</th>\n",
       "      <th>Item Price(Per Qty.)</th>\n",
       "      <th>Weight (g)</th>\n",
       "      <th>Customer Pincode</th>\n",
       "      <th>Type of Shipment</th>\n",
       "      <th>Warehouse Pincode</th>\n",
       "      <th>zone_x</th>\n",
       "    </tr>\n",
       "  </thead>\n",
       "  <tbody>\n",
       "    <tr>\n",
       "      <th>0</th>\n",
       "      <td>2001827036</td>\n",
       "      <td>8904223818706</td>\n",
       "      <td>1</td>\n",
       "      <td>COD</td>\n",
       "      <td>233</td>\n",
       "      <td>127</td>\n",
       "      <td>173213</td>\n",
       "      <td>Forward charges</td>\n",
       "      <td>121003</td>\n",
       "      <td>e</td>\n",
       "    </tr>\n",
       "    <tr>\n",
       "      <th>1</th>\n",
       "      <td>2001827036</td>\n",
       "      <td>8904223819093</td>\n",
       "      <td>1</td>\n",
       "      <td>COD</td>\n",
       "      <td>233</td>\n",
       "      <td>150</td>\n",
       "      <td>173213</td>\n",
       "      <td>Forward charges</td>\n",
       "      <td>121003</td>\n",
       "      <td>e</td>\n",
       "    </tr>\n",
       "    <tr>\n",
       "      <th>2</th>\n",
       "      <td>2001827036</td>\n",
       "      <td>8904223819109</td>\n",
       "      <td>1</td>\n",
       "      <td>COD</td>\n",
       "      <td>233</td>\n",
       "      <td>100</td>\n",
       "      <td>173213</td>\n",
       "      <td>Forward charges</td>\n",
       "      <td>121003</td>\n",
       "      <td>e</td>\n",
       "    </tr>\n",
       "    <tr>\n",
       "      <th>3</th>\n",
       "      <td>2001827036</td>\n",
       "      <td>8904223818430</td>\n",
       "      <td>1</td>\n",
       "      <td>COD</td>\n",
       "      <td>470</td>\n",
       "      <td>165</td>\n",
       "      <td>173213</td>\n",
       "      <td>Forward charges</td>\n",
       "      <td>121003</td>\n",
       "      <td>e</td>\n",
       "    </tr>\n",
       "    <tr>\n",
       "      <th>4</th>\n",
       "      <td>2001827036</td>\n",
       "      <td>8904223819277</td>\n",
       "      <td>1</td>\n",
       "      <td>COD</td>\n",
       "      <td>233</td>\n",
       "      <td>350</td>\n",
       "      <td>173213</td>\n",
       "      <td>Forward charges</td>\n",
       "      <td>121003</td>\n",
       "      <td>e</td>\n",
       "    </tr>\n",
       "  </tbody>\n",
       "</table>\n",
       "</div>"
      ],
      "text/plain": [
       "     Order ID            SKU  Order Qty Payment Mode  Item Price(Per Qty.)  \\\n",
       "0  2001827036  8904223818706          1          COD                   233   \n",
       "1  2001827036  8904223819093          1          COD                   233   \n",
       "2  2001827036  8904223819109          1          COD                   233   \n",
       "3  2001827036  8904223818430          1          COD                   470   \n",
       "4  2001827036  8904223819277          1          COD                   233   \n",
       "\n",
       "   Weight (g)  Customer Pincode Type of Shipment  Warehouse Pincode zone_x  \n",
       "0         127            173213  Forward charges             121003      e  \n",
       "1         150            173213  Forward charges             121003      e  \n",
       "2         100            173213  Forward charges             121003      e  \n",
       "3         165            173213  Forward charges             121003      e  \n",
       "4         350            173213  Forward charges             121003      e  "
      ]
     },
     "execution_count": 32,
     "metadata": {},
     "output_type": "execute_result"
    }
   ],
   "source": [
    "df_x_sku_inorder.head()"
   ]
  },
  {
   "cell_type": "code",
   "execution_count": 33,
   "id": "409ab5d2",
   "metadata": {
    "ExecuteTime": {
     "end_time": "2023-08-29T10:01:21.668586Z",
     "start_time": "2023-08-29T10:01:21.656625Z"
    }
   },
   "outputs": [],
   "source": [
    "# Converting weight from grams to kilograms\n",
    "df_x_sku_inorder['Total Weight Per Shipment (kg)'] = (df_x_sku_inorder['Order Qty'] * df_x_sku_inorder['Weight (g)']) / 1000"
   ]
  },
  {
   "cell_type": "code",
   "execution_count": 34,
   "id": "e3a7d19c",
   "metadata": {
    "ExecuteTime": {
     "end_time": "2023-08-29T10:01:21.700522Z",
     "start_time": "2023-08-29T10:01:21.671579Z"
    }
   },
   "outputs": [
    {
     "data": {
      "text/html": [
       "<div>\n",
       "<style scoped>\n",
       "    .dataframe tbody tr th:only-of-type {\n",
       "        vertical-align: middle;\n",
       "    }\n",
       "\n",
       "    .dataframe tbody tr th {\n",
       "        vertical-align: top;\n",
       "    }\n",
       "\n",
       "    .dataframe thead th {\n",
       "        text-align: right;\n",
       "    }\n",
       "</style>\n",
       "<table border=\"1\" class=\"dataframe\">\n",
       "  <thead>\n",
       "    <tr style=\"text-align: right;\">\n",
       "      <th></th>\n",
       "      <th>Order ID</th>\n",
       "      <th>SKU</th>\n",
       "      <th>Order Qty</th>\n",
       "      <th>Payment Mode</th>\n",
       "      <th>Item Price(Per Qty.)</th>\n",
       "      <th>Weight (g)</th>\n",
       "      <th>Customer Pincode</th>\n",
       "      <th>Type of Shipment</th>\n",
       "      <th>Warehouse Pincode</th>\n",
       "      <th>zone_x</th>\n",
       "      <th>Total Weight Per Shipment (kg)</th>\n",
       "    </tr>\n",
       "  </thead>\n",
       "  <tbody>\n",
       "    <tr>\n",
       "      <th>0</th>\n",
       "      <td>2001827036</td>\n",
       "      <td>8904223818706</td>\n",
       "      <td>1</td>\n",
       "      <td>COD</td>\n",
       "      <td>233</td>\n",
       "      <td>127</td>\n",
       "      <td>173213</td>\n",
       "      <td>Forward charges</td>\n",
       "      <td>121003</td>\n",
       "      <td>e</td>\n",
       "      <td>0.127</td>\n",
       "    </tr>\n",
       "    <tr>\n",
       "      <th>1</th>\n",
       "      <td>2001827036</td>\n",
       "      <td>8904223819093</td>\n",
       "      <td>1</td>\n",
       "      <td>COD</td>\n",
       "      <td>233</td>\n",
       "      <td>150</td>\n",
       "      <td>173213</td>\n",
       "      <td>Forward charges</td>\n",
       "      <td>121003</td>\n",
       "      <td>e</td>\n",
       "      <td>0.150</td>\n",
       "    </tr>\n",
       "    <tr>\n",
       "      <th>2</th>\n",
       "      <td>2001827036</td>\n",
       "      <td>8904223819109</td>\n",
       "      <td>1</td>\n",
       "      <td>COD</td>\n",
       "      <td>233</td>\n",
       "      <td>100</td>\n",
       "      <td>173213</td>\n",
       "      <td>Forward charges</td>\n",
       "      <td>121003</td>\n",
       "      <td>e</td>\n",
       "      <td>0.100</td>\n",
       "    </tr>\n",
       "    <tr>\n",
       "      <th>3</th>\n",
       "      <td>2001827036</td>\n",
       "      <td>8904223818430</td>\n",
       "      <td>1</td>\n",
       "      <td>COD</td>\n",
       "      <td>470</td>\n",
       "      <td>165</td>\n",
       "      <td>173213</td>\n",
       "      <td>Forward charges</td>\n",
       "      <td>121003</td>\n",
       "      <td>e</td>\n",
       "      <td>0.165</td>\n",
       "    </tr>\n",
       "    <tr>\n",
       "      <th>4</th>\n",
       "      <td>2001827036</td>\n",
       "      <td>8904223819277</td>\n",
       "      <td>1</td>\n",
       "      <td>COD</td>\n",
       "      <td>233</td>\n",
       "      <td>350</td>\n",
       "      <td>173213</td>\n",
       "      <td>Forward charges</td>\n",
       "      <td>121003</td>\n",
       "      <td>e</td>\n",
       "      <td>0.350</td>\n",
       "    </tr>\n",
       "  </tbody>\n",
       "</table>\n",
       "</div>"
      ],
      "text/plain": [
       "     Order ID            SKU  Order Qty Payment Mode  Item Price(Per Qty.)  \\\n",
       "0  2001827036  8904223818706          1          COD                   233   \n",
       "1  2001827036  8904223819093          1          COD                   233   \n",
       "2  2001827036  8904223819109          1          COD                   233   \n",
       "3  2001827036  8904223818430          1          COD                   470   \n",
       "4  2001827036  8904223819277          1          COD                   233   \n",
       "\n",
       "   Weight (g)  Customer Pincode Type of Shipment  Warehouse Pincode zone_x  \\\n",
       "0         127            173213  Forward charges             121003      e   \n",
       "1         150            173213  Forward charges             121003      e   \n",
       "2         100            173213  Forward charges             121003      e   \n",
       "3         165            173213  Forward charges             121003      e   \n",
       "4         350            173213  Forward charges             121003      e   \n",
       "\n",
       "   Total Weight Per Shipment (kg)  \n",
       "0                           0.127  \n",
       "1                           0.150  \n",
       "2                           0.100  \n",
       "3                           0.165  \n",
       "4                           0.350  "
      ]
     },
     "execution_count": 34,
     "metadata": {},
     "output_type": "execute_result"
    }
   ],
   "source": [
    "df_x_sku_inorder.head()"
   ]
  },
  {
   "cell_type": "code",
   "execution_count": 35,
   "id": "8eb8bf1e",
   "metadata": {
    "ExecuteTime": {
     "end_time": "2023-08-29T10:01:21.731439Z",
     "start_time": "2023-08-29T10:01:21.709479Z"
    }
   },
   "outputs": [],
   "source": [
    "#defining the weight slab"
   ]
  },
  {
   "cell_type": "code",
   "execution_count": 36,
   "id": "71ed09ca",
   "metadata": {
    "ExecuteTime": {
     "end_time": "2023-08-29T10:01:21.747379Z",
     "start_time": "2023-08-29T10:01:21.734415Z"
    }
   },
   "outputs": [],
   "source": [
    "def weight_slab(weight):\n",
    "    return int(weight) + 0.5 if weight % 1 <= 0.5 else int(weight) + 1.0"
   ]
  },
  {
   "cell_type": "code",
   "execution_count": 37,
   "id": "a293e840",
   "metadata": {
    "ExecuteTime": {
     "end_time": "2023-08-29T10:01:21.764354Z",
     "start_time": "2023-08-29T10:01:21.749374Z"
    }
   },
   "outputs": [],
   "source": [
    "#For the Weight Slab  column in the df_x_sku_inorder DataFrame:"
   ]
  },
  {
   "cell_type": "code",
   "execution_count": 38,
   "id": "de169439",
   "metadata": {
    "ExecuteTime": {
     "end_time": "2023-08-29T10:01:21.794254Z",
     "start_time": "2023-08-29T10:01:21.769321Z"
    }
   },
   "outputs": [],
   "source": [
    "df_x_sku_inorder['Weight Slab'] = df_x_sku_inorder['Total Weight Per Shipment (kg)'].apply(weight_slab)"
   ]
  },
  {
   "cell_type": "code",
   "execution_count": 39,
   "id": "0ef02df6",
   "metadata": {
    "ExecuteTime": {
     "end_time": "2023-08-29T10:01:21.810217Z",
     "start_time": "2023-08-29T10:01:21.799240Z"
    }
   },
   "outputs": [],
   "source": [
    "#For the 'Weight Slab Charged By Courier Company (KG)' column in the courier_invoice_df DataFrame:"
   ]
  },
  {
   "cell_type": "code",
   "execution_count": 40,
   "id": "7248ede5",
   "metadata": {
    "ExecuteTime": {
     "end_time": "2023-08-29T10:01:21.826247Z",
     "start_time": "2023-08-29T10:01:21.816195Z"
    }
   },
   "outputs": [],
   "source": [
    "courier_invoice_df['Weight Slab Charged By Courier Company (KG)'] = courier_invoice_df['Charged Weight'].apply(weight_slab)"
   ]
  },
  {
   "cell_type": "code",
   "execution_count": 41,
   "id": "d40a28b1",
   "metadata": {
    "ExecuteTime": {
     "end_time": "2023-08-29T10:01:21.873044Z",
     "start_time": "2023-08-29T10:01:21.833150Z"
    }
   },
   "outputs": [
    {
     "data": {
      "text/html": [
       "<div>\n",
       "<style scoped>\n",
       "    .dataframe tbody tr th:only-of-type {\n",
       "        vertical-align: middle;\n",
       "    }\n",
       "\n",
       "    .dataframe tbody tr th {\n",
       "        vertical-align: top;\n",
       "    }\n",
       "\n",
       "    .dataframe thead th {\n",
       "        text-align: right;\n",
       "    }\n",
       "</style>\n",
       "<table border=\"1\" class=\"dataframe\">\n",
       "  <thead>\n",
       "    <tr style=\"text-align: right;\">\n",
       "      <th></th>\n",
       "      <th>Order ID</th>\n",
       "      <th>SKU</th>\n",
       "      <th>Order Qty</th>\n",
       "      <th>Payment Mode</th>\n",
       "      <th>Item Price(Per Qty.)</th>\n",
       "      <th>Weight (g)</th>\n",
       "      <th>Customer Pincode</th>\n",
       "      <th>Type of Shipment</th>\n",
       "      <th>Warehouse Pincode</th>\n",
       "      <th>zone_x</th>\n",
       "      <th>Total Weight Per Shipment (kg)</th>\n",
       "      <th>Weight Slab</th>\n",
       "    </tr>\n",
       "  </thead>\n",
       "  <tbody>\n",
       "    <tr>\n",
       "      <th>0</th>\n",
       "      <td>2001827036</td>\n",
       "      <td>8904223818706</td>\n",
       "      <td>1</td>\n",
       "      <td>COD</td>\n",
       "      <td>233</td>\n",
       "      <td>127</td>\n",
       "      <td>173213</td>\n",
       "      <td>Forward charges</td>\n",
       "      <td>121003</td>\n",
       "      <td>e</td>\n",
       "      <td>0.127</td>\n",
       "      <td>0.5</td>\n",
       "    </tr>\n",
       "    <tr>\n",
       "      <th>1</th>\n",
       "      <td>2001827036</td>\n",
       "      <td>8904223819093</td>\n",
       "      <td>1</td>\n",
       "      <td>COD</td>\n",
       "      <td>233</td>\n",
       "      <td>150</td>\n",
       "      <td>173213</td>\n",
       "      <td>Forward charges</td>\n",
       "      <td>121003</td>\n",
       "      <td>e</td>\n",
       "      <td>0.150</td>\n",
       "      <td>0.5</td>\n",
       "    </tr>\n",
       "    <tr>\n",
       "      <th>2</th>\n",
       "      <td>2001827036</td>\n",
       "      <td>8904223819109</td>\n",
       "      <td>1</td>\n",
       "      <td>COD</td>\n",
       "      <td>233</td>\n",
       "      <td>100</td>\n",
       "      <td>173213</td>\n",
       "      <td>Forward charges</td>\n",
       "      <td>121003</td>\n",
       "      <td>e</td>\n",
       "      <td>0.100</td>\n",
       "      <td>0.5</td>\n",
       "    </tr>\n",
       "    <tr>\n",
       "      <th>3</th>\n",
       "      <td>2001827036</td>\n",
       "      <td>8904223818430</td>\n",
       "      <td>1</td>\n",
       "      <td>COD</td>\n",
       "      <td>470</td>\n",
       "      <td>165</td>\n",
       "      <td>173213</td>\n",
       "      <td>Forward charges</td>\n",
       "      <td>121003</td>\n",
       "      <td>e</td>\n",
       "      <td>0.165</td>\n",
       "      <td>0.5</td>\n",
       "    </tr>\n",
       "    <tr>\n",
       "      <th>4</th>\n",
       "      <td>2001827036</td>\n",
       "      <td>8904223819277</td>\n",
       "      <td>1</td>\n",
       "      <td>COD</td>\n",
       "      <td>233</td>\n",
       "      <td>350</td>\n",
       "      <td>173213</td>\n",
       "      <td>Forward charges</td>\n",
       "      <td>121003</td>\n",
       "      <td>e</td>\n",
       "      <td>0.350</td>\n",
       "      <td>0.5</td>\n",
       "    </tr>\n",
       "  </tbody>\n",
       "</table>\n",
       "</div>"
      ],
      "text/plain": [
       "     Order ID            SKU  Order Qty Payment Mode  Item Price(Per Qty.)  \\\n",
       "0  2001827036  8904223818706          1          COD                   233   \n",
       "1  2001827036  8904223819093          1          COD                   233   \n",
       "2  2001827036  8904223819109          1          COD                   233   \n",
       "3  2001827036  8904223818430          1          COD                   470   \n",
       "4  2001827036  8904223819277          1          COD                   233   \n",
       "\n",
       "   Weight (g)  Customer Pincode Type of Shipment  Warehouse Pincode zone_x  \\\n",
       "0         127            173213  Forward charges             121003      e   \n",
       "1         150            173213  Forward charges             121003      e   \n",
       "2         100            173213  Forward charges             121003      e   \n",
       "3         165            173213  Forward charges             121003      e   \n",
       "4         350            173213  Forward charges             121003      e   \n",
       "\n",
       "   Total Weight Per Shipment (kg)  Weight Slab  \n",
       "0                           0.127          0.5  \n",
       "1                           0.150          0.5  \n",
       "2                           0.100          0.5  \n",
       "3                           0.165          0.5  \n",
       "4                           0.350          0.5  "
      ]
     },
     "execution_count": 41,
     "metadata": {},
     "output_type": "execute_result"
    }
   ],
   "source": [
    "df_x_sku_inorder.head()"
   ]
  },
  {
   "cell_type": "code",
   "execution_count": 42,
   "id": "951a4255",
   "metadata": {
    "ExecuteTime": {
     "end_time": "2023-08-29T10:01:21.904958Z",
     "start_time": "2023-08-29T10:01:21.881023Z"
    }
   },
   "outputs": [
    {
     "data": {
      "text/html": [
       "<div>\n",
       "<style scoped>\n",
       "    .dataframe tbody tr th:only-of-type {\n",
       "        vertical-align: middle;\n",
       "    }\n",
       "\n",
       "    .dataframe tbody tr th {\n",
       "        vertical-align: top;\n",
       "    }\n",
       "\n",
       "    .dataframe thead th {\n",
       "        text-align: right;\n",
       "    }\n",
       "</style>\n",
       "<table border=\"1\" class=\"dataframe\">\n",
       "  <thead>\n",
       "    <tr style=\"text-align: right;\">\n",
       "      <th></th>\n",
       "      <th>AWB Code</th>\n",
       "      <th>Order ID</th>\n",
       "      <th>Charged Weight</th>\n",
       "      <th>Warehouse Pincode</th>\n",
       "      <th>Customer Pincode</th>\n",
       "      <th>zone_c</th>\n",
       "      <th>Type of Shipment</th>\n",
       "      <th>Billing Amount (Rs.)</th>\n",
       "      <th>Weight Slab Charged By Courier Company (KG)</th>\n",
       "    </tr>\n",
       "  </thead>\n",
       "  <tbody>\n",
       "    <tr>\n",
       "      <th>0</th>\n",
       "      <td>1091117222124</td>\n",
       "      <td>2001806232</td>\n",
       "      <td>1.30</td>\n",
       "      <td>121003</td>\n",
       "      <td>507101</td>\n",
       "      <td>d</td>\n",
       "      <td>Forward charges</td>\n",
       "      <td>140.0</td>\n",
       "      <td>1.5</td>\n",
       "    </tr>\n",
       "    <tr>\n",
       "      <th>1</th>\n",
       "      <td>1091117222194</td>\n",
       "      <td>2001806273</td>\n",
       "      <td>1.00</td>\n",
       "      <td>121003</td>\n",
       "      <td>486886</td>\n",
       "      <td>d</td>\n",
       "      <td>Forward charges</td>\n",
       "      <td>101.2</td>\n",
       "      <td>1.5</td>\n",
       "    </tr>\n",
       "    <tr>\n",
       "      <th>2</th>\n",
       "      <td>1091117222931</td>\n",
       "      <td>2001806408</td>\n",
       "      <td>2.50</td>\n",
       "      <td>121003</td>\n",
       "      <td>532484</td>\n",
       "      <td>d</td>\n",
       "      <td>Forward charges</td>\n",
       "      <td>224.6</td>\n",
       "      <td>2.5</td>\n",
       "    </tr>\n",
       "    <tr>\n",
       "      <th>3</th>\n",
       "      <td>1091117223244</td>\n",
       "      <td>2001806458</td>\n",
       "      <td>1.00</td>\n",
       "      <td>121003</td>\n",
       "      <td>143001</td>\n",
       "      <td>b</td>\n",
       "      <td>Forward charges</td>\n",
       "      <td>61.3</td>\n",
       "      <td>1.5</td>\n",
       "    </tr>\n",
       "    <tr>\n",
       "      <th>4</th>\n",
       "      <td>1091117229345</td>\n",
       "      <td>2001807012</td>\n",
       "      <td>0.15</td>\n",
       "      <td>121003</td>\n",
       "      <td>515591</td>\n",
       "      <td>d</td>\n",
       "      <td>Forward charges</td>\n",
       "      <td>45.4</td>\n",
       "      <td>0.5</td>\n",
       "    </tr>\n",
       "  </tbody>\n",
       "</table>\n",
       "</div>"
      ],
      "text/plain": [
       "        AWB Code    Order ID  Charged Weight  Warehouse Pincode  \\\n",
       "0  1091117222124  2001806232            1.30             121003   \n",
       "1  1091117222194  2001806273            1.00             121003   \n",
       "2  1091117222931  2001806408            2.50             121003   \n",
       "3  1091117223244  2001806458            1.00             121003   \n",
       "4  1091117229345  2001807012            0.15             121003   \n",
       "\n",
       "   Customer Pincode zone_c Type of Shipment  Billing Amount (Rs.)  \\\n",
       "0            507101      d  Forward charges                 140.0   \n",
       "1            486886      d  Forward charges                 101.2   \n",
       "2            532484      d  Forward charges                 224.6   \n",
       "3            143001      b  Forward charges                  61.3   \n",
       "4            515591      d  Forward charges                  45.4   \n",
       "\n",
       "   Weight Slab Charged By Courier Company (KG)  \n",
       "0                                          1.5  \n",
       "1                                          1.5  \n",
       "2                                          2.5  \n",
       "3                                          1.5  \n",
       "4                                          0.5  "
      ]
     },
     "execution_count": 42,
     "metadata": {},
     "output_type": "execute_result"
    }
   ],
   "source": [
    "courier_invoice_df.head()"
   ]
  },
  {
   "cell_type": "code",
   "execution_count": null,
   "id": "f3fc8305",
   "metadata": {},
   "outputs": [],
   "source": []
  },
  {
   "cell_type": "code",
   "execution_count": 43,
   "id": "83de2ea0",
   "metadata": {
    "ExecuteTime": {
     "end_time": "2023-08-29T10:01:21.936971Z",
     "start_time": "2023-08-29T10:01:21.916926Z"
    }
   },
   "outputs": [],
   "source": [
    "#calculation of expected charge"
   ]
  },
  {
   "cell_type": "code",
   "execution_count": 44,
   "id": "6114d594",
   "metadata": {
    "ExecuteTime": {
     "end_time": "2023-08-29T10:01:22.378368Z",
     "start_time": "2023-08-29T10:01:21.938967Z"
    }
   },
   "outputs": [],
   "source": [
    "total_expected_charge = []\n",
    "\n",
    "for i in range(len(df_x_sku_inorder)):\n",
    "    zone = df_x_sku_inorder['zone_x'][i].upper()  # Convert to uppercase\n",
    "    weight_slab_x = df_x_sku_inorder['Total Weight Per Shipment (kg)'][i]\n",
    "    type_of_shipment = df_x_sku_inorder['Type of Shipment'][i]\n",
    "    \n",
    "    fwd_fixed = courier_rates_df.loc[courier_rates_df['Zone'] == zone, 'Forward Fixed Charge'].values[0]\n",
    "    fwd_additional = courier_rates_df.loc[courier_rates_df['Zone'] == zone, 'Forward Additional Weight Slab Charge'].values[0]\n",
    "    rto_fixed = courier_rates_df.loc[courier_rates_df['Zone'] == zone, 'RTO Fixed Charge'].values[0]\n",
    "    rto_additional = courier_rates_df.loc[courier_rates_df['Zone'] == zone, 'RTO Additional Weight Slab Charge'].values[0]\n",
    "\n",
    "    if type_of_shipment == 'Forward charges':\n",
    "        if weight_slab_x <= 0.5:\n",
    "            total_expected_charge.append(fwd_fixed)\n",
    "        else:\n",
    "            additional_weight = (weight_slab_x - 0.5) / 0.5\n",
    "            total_expected_charge.append(fwd_fixed + additional_weight * fwd_additional)\n",
    "    \n",
    "    if type_of_shipment == 'Forward and RTO charges':\n",
    "        if weight_slab_x <= 0.5:\n",
    "            total_expected_charge.append(fwd_fixed + rto_fixed)\n",
    "        else:\n",
    "            additional_weight = (weight_slab_x - 0.5) / 0.5\n",
    "            total_expected_charge.append(fwd_fixed + additional_weight * (fwd_additional + rto_additional))\n",
    "\n",
    "df_x_sku_inorder['Expected Charge As Per X (Rs.)'] = total_expected_charge\n"
   ]
  },
  {
   "cell_type": "code",
   "execution_count": 45,
   "id": "57c4513b",
   "metadata": {
    "ExecuteTime": {
     "end_time": "2023-08-29T10:01:22.394257Z",
     "start_time": "2023-08-29T10:01:22.380294Z"
    }
   },
   "outputs": [
    {
     "data": {
      "text/plain": [
       "Index(['Order ID', 'SKU', 'Order Qty', 'Payment Mode', 'Item Price(Per Qty.)',\n",
       "       'Weight (g)', 'Customer Pincode', 'Type of Shipment',\n",
       "       'Warehouse Pincode', 'zone_x', 'Total Weight Per Shipment (kg)',\n",
       "       'Weight Slab', 'Expected Charge As Per X (Rs.)'],\n",
       "      dtype='object')"
      ]
     },
     "execution_count": 45,
     "metadata": {},
     "output_type": "execute_result"
    }
   ],
   "source": [
    "df_x_sku_inorder.columns"
   ]
  },
  {
   "cell_type": "code",
   "execution_count": 46,
   "id": "c1fa421a",
   "metadata": {
    "ExecuteTime": {
     "end_time": "2023-08-29T10:01:22.410216Z",
     "start_time": "2023-08-29T10:01:22.397250Z"
    }
   },
   "outputs": [],
   "source": [
    "Output2 = df_x_sku_inorder[['Order ID',\n",
    "                            'Type of Shipment', 'zone_x',\n",
    "                            'Total Weight Per Shipment (kg)', 'Weight Slab',\n",
    "                            'Expected Charge As Per X (Rs.)']]\n"
   ]
  },
  {
   "cell_type": "code",
   "execution_count": 47,
   "id": "a1b5ee6a",
   "metadata": {
    "ExecuteTime": {
     "end_time": "2023-08-29T10:01:22.442130Z",
     "start_time": "2023-08-29T10:01:22.418196Z"
    }
   },
   "outputs": [
    {
     "data": {
      "text/plain": [
       "Index(['AWB Code', 'Order ID', 'Charged Weight', 'Warehouse Pincode',\n",
       "       'Customer Pincode', 'zone_c', 'Type of Shipment',\n",
       "       'Billing Amount (Rs.)', 'Weight Slab Charged By Courier Company (KG)'],\n",
       "      dtype='object')"
      ]
     },
     "execution_count": 47,
     "metadata": {},
     "output_type": "execute_result"
    }
   ],
   "source": [
    "courier_invoice_df.columns"
   ]
  },
  {
   "cell_type": "code",
   "execution_count": 48,
   "id": "427de13a",
   "metadata": {
    "ExecuteTime": {
     "end_time": "2023-08-29T10:01:22.458086Z",
     "start_time": "2023-08-29T10:01:22.448113Z"
    }
   },
   "outputs": [],
   "source": [
    "Output1 = courier_invoice_df[['AWB Code', 'Order ID', 'Charged Weight',\n",
    "                              'zone_c', 'Billing Amount (Rs.)', 'Weight Slab Charged By Courier Company (KG)']]\n"
   ]
  },
  {
   "cell_type": "code",
   "execution_count": 49,
   "id": "f05a03d7",
   "metadata": {
    "ExecuteTime": {
     "end_time": "2023-08-29T10:01:22.490999Z",
     "start_time": "2023-08-29T10:01:22.465068Z"
    }
   },
   "outputs": [],
   "source": [
    "df_merged_output = Output2.merge(Output1, on='Order ID', how='left')"
   ]
  },
  {
   "cell_type": "code",
   "execution_count": 50,
   "id": "1996dd7d",
   "metadata": {
    "ExecuteTime": {
     "end_time": "2023-08-29T10:01:22.537873Z",
     "start_time": "2023-08-29T10:01:22.494988Z"
    }
   },
   "outputs": [
    {
     "data": {
      "text/html": [
       "<div>\n",
       "<style scoped>\n",
       "    .dataframe tbody tr th:only-of-type {\n",
       "        vertical-align: middle;\n",
       "    }\n",
       "\n",
       "    .dataframe tbody tr th {\n",
       "        vertical-align: top;\n",
       "    }\n",
       "\n",
       "    .dataframe thead th {\n",
       "        text-align: right;\n",
       "    }\n",
       "</style>\n",
       "<table border=\"1\" class=\"dataframe\">\n",
       "  <thead>\n",
       "    <tr style=\"text-align: right;\">\n",
       "      <th></th>\n",
       "      <th>Order ID</th>\n",
       "      <th>Type of Shipment</th>\n",
       "      <th>zone_x</th>\n",
       "      <th>Total Weight Per Shipment (kg)</th>\n",
       "      <th>Weight Slab</th>\n",
       "      <th>Expected Charge As Per X (Rs.)</th>\n",
       "      <th>AWB Code</th>\n",
       "      <th>Charged Weight</th>\n",
       "      <th>zone_c</th>\n",
       "      <th>Billing Amount (Rs.)</th>\n",
       "      <th>Weight Slab Charged By Courier Company (KG)</th>\n",
       "    </tr>\n",
       "  </thead>\n",
       "  <tbody>\n",
       "    <tr>\n",
       "      <th>190</th>\n",
       "      <td>2001808992</td>\n",
       "      <td>Forward charges</td>\n",
       "      <td>b</td>\n",
       "      <td>0.127</td>\n",
       "      <td>0.5</td>\n",
       "      <td>33.0</td>\n",
       "      <td>1091117611501</td>\n",
       "      <td>0.72</td>\n",
       "      <td>d</td>\n",
       "      <td>90.2</td>\n",
       "      <td>1.0</td>\n",
       "    </tr>\n",
       "    <tr>\n",
       "      <th>81</th>\n",
       "      <td>2001812854</td>\n",
       "      <td>Forward charges</td>\n",
       "      <td>b</td>\n",
       "      <td>0.350</td>\n",
       "      <td>0.5</td>\n",
       "      <td>33.0</td>\n",
       "      <td>1091118548333</td>\n",
       "      <td>2.94</td>\n",
       "      <td>d</td>\n",
       "      <td>280.4</td>\n",
       "      <td>3.0</td>\n",
       "    </tr>\n",
       "    <tr>\n",
       "      <th>266</th>\n",
       "      <td>2001807852</td>\n",
       "      <td>Forward charges</td>\n",
       "      <td>b</td>\n",
       "      <td>0.240</td>\n",
       "      <td>0.5</td>\n",
       "      <td>33.0</td>\n",
       "      <td>1091117326925</td>\n",
       "      <td>0.74</td>\n",
       "      <td>d</td>\n",
       "      <td>90.2</td>\n",
       "      <td>1.0</td>\n",
       "    </tr>\n",
       "    <tr>\n",
       "      <th>122</th>\n",
       "      <td>2001811229</td>\n",
       "      <td>Forward charges</td>\n",
       "      <td>b</td>\n",
       "      <td>0.100</td>\n",
       "      <td>0.5</td>\n",
       "      <td>33.0</td>\n",
       "      <td>1091117957942</td>\n",
       "      <td>0.60</td>\n",
       "      <td>d</td>\n",
       "      <td>93.2</td>\n",
       "      <td>1.0</td>\n",
       "    </tr>\n",
       "    <tr>\n",
       "      <th>358</th>\n",
       "      <td>2001806567</td>\n",
       "      <td>Forward charges</td>\n",
       "      <td>d</td>\n",
       "      <td>0.150</td>\n",
       "      <td>0.5</td>\n",
       "      <td>45.4</td>\n",
       "      <td>1091117224902</td>\n",
       "      <td>1.16</td>\n",
       "      <td>d</td>\n",
       "      <td>141.0</td>\n",
       "      <td>1.5</td>\n",
       "    </tr>\n",
       "    <tr>\n",
       "      <th>305</th>\n",
       "      <td>2001807058</td>\n",
       "      <td>Forward charges</td>\n",
       "      <td>b</td>\n",
       "      <td>0.113</td>\n",
       "      <td>0.5</td>\n",
       "      <td>33.0</td>\n",
       "      <td>1091117323112</td>\n",
       "      <td>1.15</td>\n",
       "      <td>b</td>\n",
       "      <td>89.6</td>\n",
       "      <td>1.5</td>\n",
       "    </tr>\n",
       "    <tr>\n",
       "      <th>103</th>\n",
       "      <td>2001811475</td>\n",
       "      <td>Forward charges</td>\n",
       "      <td>e</td>\n",
       "      <td>0.210</td>\n",
       "      <td>0.5</td>\n",
       "      <td>56.6</td>\n",
       "      <td>1091121844806</td>\n",
       "      <td>0.50</td>\n",
       "      <td>b</td>\n",
       "      <td>47.0</td>\n",
       "      <td>0.5</td>\n",
       "    </tr>\n",
       "    <tr>\n",
       "      <th>392</th>\n",
       "      <td>2001806233</td>\n",
       "      <td>Forward charges</td>\n",
       "      <td>b</td>\n",
       "      <td>0.130</td>\n",
       "      <td>0.5</td>\n",
       "      <td>33.0</td>\n",
       "      <td>1091117222135</td>\n",
       "      <td>0.78</td>\n",
       "      <td>b</td>\n",
       "      <td>61.3</td>\n",
       "      <td>1.0</td>\n",
       "    </tr>\n",
       "    <tr>\n",
       "      <th>149</th>\n",
       "      <td>2001810125</td>\n",
       "      <td>Forward charges</td>\n",
       "      <td>b</td>\n",
       "      <td>0.133</td>\n",
       "      <td>0.5</td>\n",
       "      <td>33.0</td>\n",
       "      <td>1091117804314</td>\n",
       "      <td>0.66</td>\n",
       "      <td>d</td>\n",
       "      <td>90.2</td>\n",
       "      <td>1.0</td>\n",
       "    </tr>\n",
       "    <tr>\n",
       "      <th>316</th>\n",
       "      <td>2001806968</td>\n",
       "      <td>Forward charges</td>\n",
       "      <td>b</td>\n",
       "      <td>0.240</td>\n",
       "      <td>0.5</td>\n",
       "      <td>33.0</td>\n",
       "      <td>1091117229183</td>\n",
       "      <td>0.68</td>\n",
       "      <td>d</td>\n",
       "      <td>90.2</td>\n",
       "      <td>1.0</td>\n",
       "    </tr>\n",
       "  </tbody>\n",
       "</table>\n",
       "</div>"
      ],
      "text/plain": [
       "       Order ID Type of Shipment zone_x  Total Weight Per Shipment (kg)  \\\n",
       "190  2001808992  Forward charges      b                           0.127   \n",
       "81   2001812854  Forward charges      b                           0.350   \n",
       "266  2001807852  Forward charges      b                           0.240   \n",
       "122  2001811229  Forward charges      b                           0.100   \n",
       "358  2001806567  Forward charges      d                           0.150   \n",
       "305  2001807058  Forward charges      b                           0.113   \n",
       "103  2001811475  Forward charges      e                           0.210   \n",
       "392  2001806233  Forward charges      b                           0.130   \n",
       "149  2001810125  Forward charges      b                           0.133   \n",
       "316  2001806968  Forward charges      b                           0.240   \n",
       "\n",
       "     Weight Slab  Expected Charge As Per X (Rs.)       AWB Code  \\\n",
       "190          0.5                            33.0  1091117611501   \n",
       "81           0.5                            33.0  1091118548333   \n",
       "266          0.5                            33.0  1091117326925   \n",
       "122          0.5                            33.0  1091117957942   \n",
       "358          0.5                            45.4  1091117224902   \n",
       "305          0.5                            33.0  1091117323112   \n",
       "103          0.5                            56.6  1091121844806   \n",
       "392          0.5                            33.0  1091117222135   \n",
       "149          0.5                            33.0  1091117804314   \n",
       "316          0.5                            33.0  1091117229183   \n",
       "\n",
       "     Charged Weight zone_c  Billing Amount (Rs.)  \\\n",
       "190            0.72      d                  90.2   \n",
       "81             2.94      d                 280.4   \n",
       "266            0.74      d                  90.2   \n",
       "122            0.60      d                  93.2   \n",
       "358            1.16      d                 141.0   \n",
       "305            1.15      b                  89.6   \n",
       "103            0.50      b                  47.0   \n",
       "392            0.78      b                  61.3   \n",
       "149            0.66      d                  90.2   \n",
       "316            0.68      d                  90.2   \n",
       "\n",
       "     Weight Slab Charged By Courier Company (KG)  \n",
       "190                                          1.0  \n",
       "81                                           3.0  \n",
       "266                                          1.0  \n",
       "122                                          1.0  \n",
       "358                                          1.5  \n",
       "305                                          1.5  \n",
       "103                                          0.5  \n",
       "392                                          1.0  \n",
       "149                                          1.0  \n",
       "316                                          1.0  "
      ]
     },
     "execution_count": 50,
     "metadata": {},
     "output_type": "execute_result"
    }
   ],
   "source": [
    "df_merged_output.sample(10)"
   ]
  },
  {
   "cell_type": "code",
   "execution_count": 51,
   "id": "557f3a12",
   "metadata": {
    "ExecuteTime": {
     "end_time": "2023-08-29T10:01:22.552833Z",
     "start_time": "2023-08-29T10:01:22.543864Z"
    }
   },
   "outputs": [],
   "source": [
    "output1=df_merged_output.copy()"
   ]
  },
  {
   "cell_type": "code",
   "execution_count": 52,
   "id": "18ee52e0",
   "metadata": {
    "ExecuteTime": {
     "end_time": "2023-08-29T10:01:22.568790Z",
     "start_time": "2023-08-29T10:01:22.555825Z"
    }
   },
   "outputs": [],
   "source": [
    "output1 = output1.rename(columns={\n",
    "    'AWB Code': 'AWB Number',\n",
    "    'Billing Amount (Rs.)': 'Charges_Billed_By_Courier_Company_Rs',\n",
    "    'Expected Charge As Per X (Rs.)': 'Expected_Charge_As_Per_X_Rs'\n",
    "})"
   ]
  },
  {
   "cell_type": "code",
   "execution_count": 53,
   "id": "ae3614c7",
   "metadata": {
    "ExecuteTime": {
     "end_time": "2023-08-29T10:01:22.600706Z",
     "start_time": "2023-08-29T10:01:22.570786Z"
    }
   },
   "outputs": [
    {
     "data": {
      "text/html": [
       "<div>\n",
       "<style scoped>\n",
       "    .dataframe tbody tr th:only-of-type {\n",
       "        vertical-align: middle;\n",
       "    }\n",
       "\n",
       "    .dataframe tbody tr th {\n",
       "        vertical-align: top;\n",
       "    }\n",
       "\n",
       "    .dataframe thead th {\n",
       "        text-align: right;\n",
       "    }\n",
       "</style>\n",
       "<table border=\"1\" class=\"dataframe\">\n",
       "  <thead>\n",
       "    <tr style=\"text-align: right;\">\n",
       "      <th></th>\n",
       "      <th>Order ID</th>\n",
       "      <th>Type of Shipment</th>\n",
       "      <th>zone_x</th>\n",
       "      <th>Total Weight Per Shipment (kg)</th>\n",
       "      <th>Weight Slab</th>\n",
       "      <th>Expected_Charge_As_Per_X_Rs</th>\n",
       "      <th>AWB Number</th>\n",
       "      <th>Charged Weight</th>\n",
       "      <th>zone_c</th>\n",
       "      <th>Charges_Billed_By_Courier_Company_Rs</th>\n",
       "      <th>Weight Slab Charged By Courier Company (KG)</th>\n",
       "    </tr>\n",
       "  </thead>\n",
       "  <tbody>\n",
       "    <tr>\n",
       "      <th>0</th>\n",
       "      <td>2001827036</td>\n",
       "      <td>Forward charges</td>\n",
       "      <td>e</td>\n",
       "      <td>0.127</td>\n",
       "      <td>0.5</td>\n",
       "      <td>56.6</td>\n",
       "      <td>1091122418320</td>\n",
       "      <td>1.6</td>\n",
       "      <td>b</td>\n",
       "      <td>117.9</td>\n",
       "      <td>2.0</td>\n",
       "    </tr>\n",
       "    <tr>\n",
       "      <th>1</th>\n",
       "      <td>2001827036</td>\n",
       "      <td>Forward charges</td>\n",
       "      <td>e</td>\n",
       "      <td>0.150</td>\n",
       "      <td>0.5</td>\n",
       "      <td>56.6</td>\n",
       "      <td>1091122418320</td>\n",
       "      <td>1.6</td>\n",
       "      <td>b</td>\n",
       "      <td>117.9</td>\n",
       "      <td>2.0</td>\n",
       "    </tr>\n",
       "    <tr>\n",
       "      <th>2</th>\n",
       "      <td>2001827036</td>\n",
       "      <td>Forward charges</td>\n",
       "      <td>e</td>\n",
       "      <td>0.100</td>\n",
       "      <td>0.5</td>\n",
       "      <td>56.6</td>\n",
       "      <td>1091122418320</td>\n",
       "      <td>1.6</td>\n",
       "      <td>b</td>\n",
       "      <td>117.9</td>\n",
       "      <td>2.0</td>\n",
       "    </tr>\n",
       "    <tr>\n",
       "      <th>3</th>\n",
       "      <td>2001827036</td>\n",
       "      <td>Forward charges</td>\n",
       "      <td>e</td>\n",
       "      <td>0.165</td>\n",
       "      <td>0.5</td>\n",
       "      <td>56.6</td>\n",
       "      <td>1091122418320</td>\n",
       "      <td>1.6</td>\n",
       "      <td>b</td>\n",
       "      <td>117.9</td>\n",
       "      <td>2.0</td>\n",
       "    </tr>\n",
       "    <tr>\n",
       "      <th>4</th>\n",
       "      <td>2001827036</td>\n",
       "      <td>Forward charges</td>\n",
       "      <td>e</td>\n",
       "      <td>0.350</td>\n",
       "      <td>0.5</td>\n",
       "      <td>56.6</td>\n",
       "      <td>1091122418320</td>\n",
       "      <td>1.6</td>\n",
       "      <td>b</td>\n",
       "      <td>117.9</td>\n",
       "      <td>2.0</td>\n",
       "    </tr>\n",
       "  </tbody>\n",
       "</table>\n",
       "</div>"
      ],
      "text/plain": [
       "     Order ID Type of Shipment zone_x  Total Weight Per Shipment (kg)  \\\n",
       "0  2001827036  Forward charges      e                           0.127   \n",
       "1  2001827036  Forward charges      e                           0.150   \n",
       "2  2001827036  Forward charges      e                           0.100   \n",
       "3  2001827036  Forward charges      e                           0.165   \n",
       "4  2001827036  Forward charges      e                           0.350   \n",
       "\n",
       "   Weight Slab  Expected_Charge_As_Per_X_Rs     AWB Number  Charged Weight  \\\n",
       "0          0.5                         56.6  1091122418320             1.6   \n",
       "1          0.5                         56.6  1091122418320             1.6   \n",
       "2          0.5                         56.6  1091122418320             1.6   \n",
       "3          0.5                         56.6  1091122418320             1.6   \n",
       "4          0.5                         56.6  1091122418320             1.6   \n",
       "\n",
       "  zone_c  Charges_Billed_By_Courier_Company_Rs  \\\n",
       "0      b                                 117.9   \n",
       "1      b                                 117.9   \n",
       "2      b                                 117.9   \n",
       "3      b                                 117.9   \n",
       "4      b                                 117.9   \n",
       "\n",
       "   Weight Slab Charged By Courier Company (KG)  \n",
       "0                                          2.0  \n",
       "1                                          2.0  \n",
       "2                                          2.0  \n",
       "3                                          2.0  \n",
       "4                                          2.0  "
      ]
     },
     "execution_count": 53,
     "metadata": {},
     "output_type": "execute_result"
    }
   ],
   "source": [
    "output1.head()"
   ]
  },
  {
   "cell_type": "code",
   "execution_count": 54,
   "id": "7068c153",
   "metadata": {
    "ExecuteTime": {
     "end_time": "2023-08-29T10:01:22.615665Z",
     "start_time": "2023-08-29T10:01:22.604695Z"
    }
   },
   "outputs": [],
   "source": [
    "#now calculating the differance between the both charge expected one and billed one "
   ]
  },
  {
   "cell_type": "code",
   "execution_count": 55,
   "id": "9bbca547",
   "metadata": {
    "ExecuteTime": {
     "end_time": "2023-08-29T10:01:22.645585Z",
     "start_time": "2023-08-29T10:01:22.619655Z"
    }
   },
   "outputs": [],
   "source": [
    "output1['Difference'] =output1['Expected_Charge_As_Per_X_Rs'] - output1['Charges_Billed_By_Courier_Company_Rs']"
   ]
  },
  {
   "cell_type": "code",
   "execution_count": 56,
   "id": "ad7ac399",
   "metadata": {
    "ExecuteTime": {
     "end_time": "2023-08-29T10:01:22.691464Z",
     "start_time": "2023-08-29T10:01:22.648577Z"
    }
   },
   "outputs": [
    {
     "data": {
      "text/html": [
       "<div>\n",
       "<style scoped>\n",
       "    .dataframe tbody tr th:only-of-type {\n",
       "        vertical-align: middle;\n",
       "    }\n",
       "\n",
       "    .dataframe tbody tr th {\n",
       "        vertical-align: top;\n",
       "    }\n",
       "\n",
       "    .dataframe thead th {\n",
       "        text-align: right;\n",
       "    }\n",
       "</style>\n",
       "<table border=\"1\" class=\"dataframe\">\n",
       "  <thead>\n",
       "    <tr style=\"text-align: right;\">\n",
       "      <th></th>\n",
       "      <th>Order ID</th>\n",
       "      <th>Type of Shipment</th>\n",
       "      <th>zone_x</th>\n",
       "      <th>Total Weight Per Shipment (kg)</th>\n",
       "      <th>Weight Slab</th>\n",
       "      <th>Expected_Charge_As_Per_X_Rs</th>\n",
       "      <th>AWB Number</th>\n",
       "      <th>Charged Weight</th>\n",
       "      <th>zone_c</th>\n",
       "      <th>Charges_Billed_By_Courier_Company_Rs</th>\n",
       "      <th>Weight Slab Charged By Courier Company (KG)</th>\n",
       "      <th>Difference</th>\n",
       "    </tr>\n",
       "  </thead>\n",
       "  <tbody>\n",
       "    <tr>\n",
       "      <th>0</th>\n",
       "      <td>2001827036</td>\n",
       "      <td>Forward charges</td>\n",
       "      <td>e</td>\n",
       "      <td>0.127</td>\n",
       "      <td>0.5</td>\n",
       "      <td>56.6</td>\n",
       "      <td>1091122418320</td>\n",
       "      <td>1.6</td>\n",
       "      <td>b</td>\n",
       "      <td>117.9</td>\n",
       "      <td>2.0</td>\n",
       "      <td>-61.3</td>\n",
       "    </tr>\n",
       "    <tr>\n",
       "      <th>1</th>\n",
       "      <td>2001827036</td>\n",
       "      <td>Forward charges</td>\n",
       "      <td>e</td>\n",
       "      <td>0.150</td>\n",
       "      <td>0.5</td>\n",
       "      <td>56.6</td>\n",
       "      <td>1091122418320</td>\n",
       "      <td>1.6</td>\n",
       "      <td>b</td>\n",
       "      <td>117.9</td>\n",
       "      <td>2.0</td>\n",
       "      <td>-61.3</td>\n",
       "    </tr>\n",
       "    <tr>\n",
       "      <th>2</th>\n",
       "      <td>2001827036</td>\n",
       "      <td>Forward charges</td>\n",
       "      <td>e</td>\n",
       "      <td>0.100</td>\n",
       "      <td>0.5</td>\n",
       "      <td>56.6</td>\n",
       "      <td>1091122418320</td>\n",
       "      <td>1.6</td>\n",
       "      <td>b</td>\n",
       "      <td>117.9</td>\n",
       "      <td>2.0</td>\n",
       "      <td>-61.3</td>\n",
       "    </tr>\n",
       "    <tr>\n",
       "      <th>3</th>\n",
       "      <td>2001827036</td>\n",
       "      <td>Forward charges</td>\n",
       "      <td>e</td>\n",
       "      <td>0.165</td>\n",
       "      <td>0.5</td>\n",
       "      <td>56.6</td>\n",
       "      <td>1091122418320</td>\n",
       "      <td>1.6</td>\n",
       "      <td>b</td>\n",
       "      <td>117.9</td>\n",
       "      <td>2.0</td>\n",
       "      <td>-61.3</td>\n",
       "    </tr>\n",
       "    <tr>\n",
       "      <th>4</th>\n",
       "      <td>2001827036</td>\n",
       "      <td>Forward charges</td>\n",
       "      <td>e</td>\n",
       "      <td>0.350</td>\n",
       "      <td>0.5</td>\n",
       "      <td>56.6</td>\n",
       "      <td>1091122418320</td>\n",
       "      <td>1.6</td>\n",
       "      <td>b</td>\n",
       "      <td>117.9</td>\n",
       "      <td>2.0</td>\n",
       "      <td>-61.3</td>\n",
       "    </tr>\n",
       "  </tbody>\n",
       "</table>\n",
       "</div>"
      ],
      "text/plain": [
       "     Order ID Type of Shipment zone_x  Total Weight Per Shipment (kg)  \\\n",
       "0  2001827036  Forward charges      e                           0.127   \n",
       "1  2001827036  Forward charges      e                           0.150   \n",
       "2  2001827036  Forward charges      e                           0.100   \n",
       "3  2001827036  Forward charges      e                           0.165   \n",
       "4  2001827036  Forward charges      e                           0.350   \n",
       "\n",
       "   Weight Slab  Expected_Charge_As_Per_X_Rs     AWB Number  Charged Weight  \\\n",
       "0          0.5                         56.6  1091122418320             1.6   \n",
       "1          0.5                         56.6  1091122418320             1.6   \n",
       "2          0.5                         56.6  1091122418320             1.6   \n",
       "3          0.5                         56.6  1091122418320             1.6   \n",
       "4          0.5                         56.6  1091122418320             1.6   \n",
       "\n",
       "  zone_c  Charges_Billed_By_Courier_Company_Rs  \\\n",
       "0      b                                 117.9   \n",
       "1      b                                 117.9   \n",
       "2      b                                 117.9   \n",
       "3      b                                 117.9   \n",
       "4      b                                 117.9   \n",
       "\n",
       "   Weight Slab Charged By Courier Company (KG)  Difference  \n",
       "0                                          2.0       -61.3  \n",
       "1                                          2.0       -61.3  \n",
       "2                                          2.0       -61.3  \n",
       "3                                          2.0       -61.3  \n",
       "4                                          2.0       -61.3  "
      ]
     },
     "execution_count": 56,
     "metadata": {},
     "output_type": "execute_result"
    }
   ],
   "source": [
    "output1.head()"
   ]
  },
  {
   "cell_type": "code",
   "execution_count": 57,
   "id": "7910ce22",
   "metadata": {
    "ExecuteTime": {
     "end_time": "2023-08-29T10:01:22.707420Z",
     "start_time": "2023-08-29T10:01:22.696450Z"
    }
   },
   "outputs": [
    {
     "data": {
      "text/plain": [
       "Index(['Order ID', 'Type of Shipment', 'zone_x',\n",
       "       'Total Weight Per Shipment (kg)', 'Weight Slab',\n",
       "       'Expected_Charge_As_Per_X_Rs', 'AWB Number', 'Charged Weight', 'zone_c',\n",
       "       'Charges_Billed_By_Courier_Company_Rs',\n",
       "       'Weight Slab Charged By Courier Company (KG)', 'Difference'],\n",
       "      dtype='object')"
      ]
     },
     "execution_count": 57,
     "metadata": {},
     "output_type": "execute_result"
    }
   ],
   "source": [
    "output1.columns"
   ]
  },
  {
   "cell_type": "code",
   "execution_count": 58,
   "id": "7e07702e",
   "metadata": {
    "ExecuteTime": {
     "end_time": "2023-08-29T10:01:22.723376Z",
     "start_time": "2023-08-29T10:01:22.712408Z"
    }
   },
   "outputs": [],
   "source": [
    "column_mapping = {\n",
    "    'AWB Number': 'AWB Number',\n",
    "    'Total Weight Per Shipment (kg)': 'Total weight as per X (KG)',\n",
    "    'Weight Slab': 'Weight slab as per X (KG)',\n",
    "    'Charged Weight': 'Total weight as per Courier Company (KG)',\n",
    "    'Weight Slab Charged By Courier Company (KG)': 'Weight slab charged by Courier Company (KG)',\n",
    "    'zone_x': 'Delivery Zone as per X',\n",
    "    'zone_c': 'Delivery Zone charged by Courier Company',\n",
    "    'Expected_Charge_As_Per_X_Rs': 'Expected Charge as per X (Rs.)',\n",
    "    'Charges_Billed_By_Courier_Company_Rs': 'Charges Billed by Courier Company (Rs.)',\n",
    "    'Difference': 'Difference Between Expected Charges and Billed Charges (Rs.)'\n",
    "}"
   ]
  },
  {
   "cell_type": "code",
   "execution_count": 59,
   "id": "81d70c7f",
   "metadata": {
    "ExecuteTime": {
     "end_time": "2023-08-29T10:01:22.739336Z",
     "start_time": "2023-08-29T10:01:22.726369Z"
    }
   },
   "outputs": [],
   "source": [
    "#renaming the columns\n",
    "output1.rename(columns=column_mapping, inplace=True)"
   ]
  },
  {
   "cell_type": "code",
   "execution_count": 60,
   "id": "eb7709dc",
   "metadata": {
    "ExecuteTime": {
     "end_time": "2023-08-29T10:01:22.786210Z",
     "start_time": "2023-08-29T10:01:22.747313Z"
    },
    "scrolled": true
   },
   "outputs": [
    {
     "data": {
      "text/html": [
       "<div>\n",
       "<style scoped>\n",
       "    .dataframe tbody tr th:only-of-type {\n",
       "        vertical-align: middle;\n",
       "    }\n",
       "\n",
       "    .dataframe tbody tr th {\n",
       "        vertical-align: top;\n",
       "    }\n",
       "\n",
       "    .dataframe thead th {\n",
       "        text-align: right;\n",
       "    }\n",
       "</style>\n",
       "<table border=\"1\" class=\"dataframe\">\n",
       "  <thead>\n",
       "    <tr style=\"text-align: right;\">\n",
       "      <th></th>\n",
       "      <th>Order ID</th>\n",
       "      <th>Type of Shipment</th>\n",
       "      <th>Delivery Zone as per X</th>\n",
       "      <th>Total weight as per X (KG)</th>\n",
       "      <th>Weight slab as per X (KG)</th>\n",
       "      <th>Expected Charge as per X (Rs.)</th>\n",
       "      <th>AWB Number</th>\n",
       "      <th>Total weight as per Courier Company (KG)</th>\n",
       "      <th>Delivery Zone charged by Courier Company</th>\n",
       "      <th>Charges Billed by Courier Company (Rs.)</th>\n",
       "      <th>Weight slab charged by Courier Company (KG)</th>\n",
       "      <th>Difference Between Expected Charges and Billed Charges (Rs.)</th>\n",
       "    </tr>\n",
       "  </thead>\n",
       "  <tbody>\n",
       "    <tr>\n",
       "      <th>0</th>\n",
       "      <td>2001827036</td>\n",
       "      <td>Forward charges</td>\n",
       "      <td>e</td>\n",
       "      <td>0.127</td>\n",
       "      <td>0.5</td>\n",
       "      <td>56.6</td>\n",
       "      <td>1091122418320</td>\n",
       "      <td>1.6</td>\n",
       "      <td>b</td>\n",
       "      <td>117.9</td>\n",
       "      <td>2.0</td>\n",
       "      <td>-61.3</td>\n",
       "    </tr>\n",
       "    <tr>\n",
       "      <th>1</th>\n",
       "      <td>2001827036</td>\n",
       "      <td>Forward charges</td>\n",
       "      <td>e</td>\n",
       "      <td>0.150</td>\n",
       "      <td>0.5</td>\n",
       "      <td>56.6</td>\n",
       "      <td>1091122418320</td>\n",
       "      <td>1.6</td>\n",
       "      <td>b</td>\n",
       "      <td>117.9</td>\n",
       "      <td>2.0</td>\n",
       "      <td>-61.3</td>\n",
       "    </tr>\n",
       "    <tr>\n",
       "      <th>2</th>\n",
       "      <td>2001827036</td>\n",
       "      <td>Forward charges</td>\n",
       "      <td>e</td>\n",
       "      <td>0.100</td>\n",
       "      <td>0.5</td>\n",
       "      <td>56.6</td>\n",
       "      <td>1091122418320</td>\n",
       "      <td>1.6</td>\n",
       "      <td>b</td>\n",
       "      <td>117.9</td>\n",
       "      <td>2.0</td>\n",
       "      <td>-61.3</td>\n",
       "    </tr>\n",
       "    <tr>\n",
       "      <th>3</th>\n",
       "      <td>2001827036</td>\n",
       "      <td>Forward charges</td>\n",
       "      <td>e</td>\n",
       "      <td>0.165</td>\n",
       "      <td>0.5</td>\n",
       "      <td>56.6</td>\n",
       "      <td>1091122418320</td>\n",
       "      <td>1.6</td>\n",
       "      <td>b</td>\n",
       "      <td>117.9</td>\n",
       "      <td>2.0</td>\n",
       "      <td>-61.3</td>\n",
       "    </tr>\n",
       "    <tr>\n",
       "      <th>4</th>\n",
       "      <td>2001827036</td>\n",
       "      <td>Forward charges</td>\n",
       "      <td>e</td>\n",
       "      <td>0.350</td>\n",
       "      <td>0.5</td>\n",
       "      <td>56.6</td>\n",
       "      <td>1091122418320</td>\n",
       "      <td>1.6</td>\n",
       "      <td>b</td>\n",
       "      <td>117.9</td>\n",
       "      <td>2.0</td>\n",
       "      <td>-61.3</td>\n",
       "    </tr>\n",
       "  </tbody>\n",
       "</table>\n",
       "</div>"
      ],
      "text/plain": [
       "     Order ID Type of Shipment Delivery Zone as per X  \\\n",
       "0  2001827036  Forward charges                      e   \n",
       "1  2001827036  Forward charges                      e   \n",
       "2  2001827036  Forward charges                      e   \n",
       "3  2001827036  Forward charges                      e   \n",
       "4  2001827036  Forward charges                      e   \n",
       "\n",
       "   Total weight as per X (KG)  Weight slab as per X (KG)  \\\n",
       "0                       0.127                        0.5   \n",
       "1                       0.150                        0.5   \n",
       "2                       0.100                        0.5   \n",
       "3                       0.165                        0.5   \n",
       "4                       0.350                        0.5   \n",
       "\n",
       "   Expected Charge as per X (Rs.)     AWB Number  \\\n",
       "0                            56.6  1091122418320   \n",
       "1                            56.6  1091122418320   \n",
       "2                            56.6  1091122418320   \n",
       "3                            56.6  1091122418320   \n",
       "4                            56.6  1091122418320   \n",
       "\n",
       "   Total weight as per Courier Company (KG)  \\\n",
       "0                                       1.6   \n",
       "1                                       1.6   \n",
       "2                                       1.6   \n",
       "3                                       1.6   \n",
       "4                                       1.6   \n",
       "\n",
       "  Delivery Zone charged by Courier Company  \\\n",
       "0                                        b   \n",
       "1                                        b   \n",
       "2                                        b   \n",
       "3                                        b   \n",
       "4                                        b   \n",
       "\n",
       "   Charges Billed by Courier Company (Rs.)  \\\n",
       "0                                    117.9   \n",
       "1                                    117.9   \n",
       "2                                    117.9   \n",
       "3                                    117.9   \n",
       "4                                    117.9   \n",
       "\n",
       "   Weight slab charged by Courier Company (KG)  \\\n",
       "0                                          2.0   \n",
       "1                                          2.0   \n",
       "2                                          2.0   \n",
       "3                                          2.0   \n",
       "4                                          2.0   \n",
       "\n",
       "   Difference Between Expected Charges and Billed Charges (Rs.)  \n",
       "0                                              -61.3             \n",
       "1                                              -61.3             \n",
       "2                                              -61.3             \n",
       "3                                              -61.3             \n",
       "4                                              -61.3             "
      ]
     },
     "execution_count": 60,
     "metadata": {},
     "output_type": "execute_result"
    }
   ],
   "source": [
    "output1.head()"
   ]
  },
  {
   "cell_type": "code",
   "execution_count": 61,
   "id": "398a3cb0",
   "metadata": {
    "ExecuteTime": {
     "end_time": "2023-08-29T10:01:22.802167Z",
     "start_time": "2023-08-29T10:01:22.790200Z"
    }
   },
   "outputs": [],
   "source": [
    "#removing type of shipment column as it is not required in final output"
   ]
  },
  {
   "cell_type": "code",
   "execution_count": 62,
   "id": "752e7e9e",
   "metadata": {
    "ExecuteTime": {
     "end_time": "2023-08-29T10:01:22.818123Z",
     "start_time": "2023-08-29T10:01:22.805160Z"
    }
   },
   "outputs": [],
   "source": [
    "output1.drop(columns=['Type of Shipment'], inplace=True)"
   ]
  },
  {
   "cell_type": "code",
   "execution_count": 63,
   "id": "ab843fd2",
   "metadata": {
    "ExecuteTime": {
     "end_time": "2023-08-29T10:01:22.880955Z",
     "start_time": "2023-08-29T10:01:22.820122Z"
    }
   },
   "outputs": [
    {
     "data": {
      "text/html": [
       "<div>\n",
       "<style scoped>\n",
       "    .dataframe tbody tr th:only-of-type {\n",
       "        vertical-align: middle;\n",
       "    }\n",
       "\n",
       "    .dataframe tbody tr th {\n",
       "        vertical-align: top;\n",
       "    }\n",
       "\n",
       "    .dataframe thead th {\n",
       "        text-align: right;\n",
       "    }\n",
       "</style>\n",
       "<table border=\"1\" class=\"dataframe\">\n",
       "  <thead>\n",
       "    <tr style=\"text-align: right;\">\n",
       "      <th></th>\n",
       "      <th>Order ID</th>\n",
       "      <th>Delivery Zone as per X</th>\n",
       "      <th>Total weight as per X (KG)</th>\n",
       "      <th>Weight slab as per X (KG)</th>\n",
       "      <th>Expected Charge as per X (Rs.)</th>\n",
       "      <th>AWB Number</th>\n",
       "      <th>Total weight as per Courier Company (KG)</th>\n",
       "      <th>Delivery Zone charged by Courier Company</th>\n",
       "      <th>Charges Billed by Courier Company (Rs.)</th>\n",
       "      <th>Weight slab charged by Courier Company (KG)</th>\n",
       "      <th>Difference Between Expected Charges and Billed Charges (Rs.)</th>\n",
       "    </tr>\n",
       "  </thead>\n",
       "  <tbody>\n",
       "    <tr>\n",
       "      <th>0</th>\n",
       "      <td>2001827036</td>\n",
       "      <td>e</td>\n",
       "      <td>0.127</td>\n",
       "      <td>0.5</td>\n",
       "      <td>56.6</td>\n",
       "      <td>1091122418320</td>\n",
       "      <td>1.60</td>\n",
       "      <td>b</td>\n",
       "      <td>117.9</td>\n",
       "      <td>2.0</td>\n",
       "      <td>-61.3</td>\n",
       "    </tr>\n",
       "    <tr>\n",
       "      <th>1</th>\n",
       "      <td>2001827036</td>\n",
       "      <td>e</td>\n",
       "      <td>0.150</td>\n",
       "      <td>0.5</td>\n",
       "      <td>56.6</td>\n",
       "      <td>1091122418320</td>\n",
       "      <td>1.60</td>\n",
       "      <td>b</td>\n",
       "      <td>117.9</td>\n",
       "      <td>2.0</td>\n",
       "      <td>-61.3</td>\n",
       "    </tr>\n",
       "    <tr>\n",
       "      <th>2</th>\n",
       "      <td>2001827036</td>\n",
       "      <td>e</td>\n",
       "      <td>0.100</td>\n",
       "      <td>0.5</td>\n",
       "      <td>56.6</td>\n",
       "      <td>1091122418320</td>\n",
       "      <td>1.60</td>\n",
       "      <td>b</td>\n",
       "      <td>117.9</td>\n",
       "      <td>2.0</td>\n",
       "      <td>-61.3</td>\n",
       "    </tr>\n",
       "    <tr>\n",
       "      <th>3</th>\n",
       "      <td>2001827036</td>\n",
       "      <td>e</td>\n",
       "      <td>0.165</td>\n",
       "      <td>0.5</td>\n",
       "      <td>56.6</td>\n",
       "      <td>1091122418320</td>\n",
       "      <td>1.60</td>\n",
       "      <td>b</td>\n",
       "      <td>117.9</td>\n",
       "      <td>2.0</td>\n",
       "      <td>-61.3</td>\n",
       "    </tr>\n",
       "    <tr>\n",
       "      <th>4</th>\n",
       "      <td>2001827036</td>\n",
       "      <td>e</td>\n",
       "      <td>0.350</td>\n",
       "      <td>0.5</td>\n",
       "      <td>56.6</td>\n",
       "      <td>1091122418320</td>\n",
       "      <td>1.60</td>\n",
       "      <td>b</td>\n",
       "      <td>117.9</td>\n",
       "      <td>2.0</td>\n",
       "      <td>-61.3</td>\n",
       "    </tr>\n",
       "    <tr>\n",
       "      <th>...</th>\n",
       "      <td>...</td>\n",
       "      <td>...</td>\n",
       "      <td>...</td>\n",
       "      <td>...</td>\n",
       "      <td>...</td>\n",
       "      <td>...</td>\n",
       "      <td>...</td>\n",
       "      <td>...</td>\n",
       "      <td>...</td>\n",
       "      <td>...</td>\n",
       "      <td>...</td>\n",
       "    </tr>\n",
       "    <tr>\n",
       "      <th>396</th>\n",
       "      <td>2001806229</td>\n",
       "      <td>d</td>\n",
       "      <td>0.133</td>\n",
       "      <td>0.5</td>\n",
       "      <td>45.4</td>\n",
       "      <td>1091117222080</td>\n",
       "      <td>0.71</td>\n",
       "      <td>d</td>\n",
       "      <td>90.2</td>\n",
       "      <td>1.0</td>\n",
       "      <td>-44.8</td>\n",
       "    </tr>\n",
       "    <tr>\n",
       "      <th>397</th>\n",
       "      <td>2001806229</td>\n",
       "      <td>d</td>\n",
       "      <td>0.240</td>\n",
       "      <td>0.5</td>\n",
       "      <td>45.4</td>\n",
       "      <td>1091117222080</td>\n",
       "      <td>0.71</td>\n",
       "      <td>d</td>\n",
       "      <td>90.2</td>\n",
       "      <td>1.0</td>\n",
       "      <td>-44.8</td>\n",
       "    </tr>\n",
       "    <tr>\n",
       "      <th>398</th>\n",
       "      <td>2001806226</td>\n",
       "      <td>d</td>\n",
       "      <td>0.480</td>\n",
       "      <td>0.5</td>\n",
       "      <td>45.4</td>\n",
       "      <td>1091117222065</td>\n",
       "      <td>0.68</td>\n",
       "      <td>d</td>\n",
       "      <td>90.2</td>\n",
       "      <td>1.0</td>\n",
       "      <td>-44.8</td>\n",
       "    </tr>\n",
       "    <tr>\n",
       "      <th>399</th>\n",
       "      <td>2001806210</td>\n",
       "      <td>b</td>\n",
       "      <td>0.120</td>\n",
       "      <td>0.5</td>\n",
       "      <td>33.0</td>\n",
       "      <td>1091117221940</td>\n",
       "      <td>2.92</td>\n",
       "      <td>b</td>\n",
       "      <td>174.5</td>\n",
       "      <td>3.0</td>\n",
       "      <td>-141.5</td>\n",
       "    </tr>\n",
       "    <tr>\n",
       "      <th>400</th>\n",
       "      <td>2001806210</td>\n",
       "      <td>b</td>\n",
       "      <td>0.100</td>\n",
       "      <td>0.5</td>\n",
       "      <td>33.0</td>\n",
       "      <td>1091117221940</td>\n",
       "      <td>2.92</td>\n",
       "      <td>b</td>\n",
       "      <td>174.5</td>\n",
       "      <td>3.0</td>\n",
       "      <td>-141.5</td>\n",
       "    </tr>\n",
       "  </tbody>\n",
       "</table>\n",
       "<p>401 rows × 11 columns</p>\n",
       "</div>"
      ],
      "text/plain": [
       "       Order ID Delivery Zone as per X  Total weight as per X (KG)  \\\n",
       "0    2001827036                      e                       0.127   \n",
       "1    2001827036                      e                       0.150   \n",
       "2    2001827036                      e                       0.100   \n",
       "3    2001827036                      e                       0.165   \n",
       "4    2001827036                      e                       0.350   \n",
       "..          ...                    ...                         ...   \n",
       "396  2001806229                      d                       0.133   \n",
       "397  2001806229                      d                       0.240   \n",
       "398  2001806226                      d                       0.480   \n",
       "399  2001806210                      b                       0.120   \n",
       "400  2001806210                      b                       0.100   \n",
       "\n",
       "     Weight slab as per X (KG)  Expected Charge as per X (Rs.)     AWB Number  \\\n",
       "0                          0.5                            56.6  1091122418320   \n",
       "1                          0.5                            56.6  1091122418320   \n",
       "2                          0.5                            56.6  1091122418320   \n",
       "3                          0.5                            56.6  1091122418320   \n",
       "4                          0.5                            56.6  1091122418320   \n",
       "..                         ...                             ...            ...   \n",
       "396                        0.5                            45.4  1091117222080   \n",
       "397                        0.5                            45.4  1091117222080   \n",
       "398                        0.5                            45.4  1091117222065   \n",
       "399                        0.5                            33.0  1091117221940   \n",
       "400                        0.5                            33.0  1091117221940   \n",
       "\n",
       "     Total weight as per Courier Company (KG)  \\\n",
       "0                                        1.60   \n",
       "1                                        1.60   \n",
       "2                                        1.60   \n",
       "3                                        1.60   \n",
       "4                                        1.60   \n",
       "..                                        ...   \n",
       "396                                      0.71   \n",
       "397                                      0.71   \n",
       "398                                      0.68   \n",
       "399                                      2.92   \n",
       "400                                      2.92   \n",
       "\n",
       "    Delivery Zone charged by Courier Company  \\\n",
       "0                                          b   \n",
       "1                                          b   \n",
       "2                                          b   \n",
       "3                                          b   \n",
       "4                                          b   \n",
       "..                                       ...   \n",
       "396                                        d   \n",
       "397                                        d   \n",
       "398                                        d   \n",
       "399                                        b   \n",
       "400                                        b   \n",
       "\n",
       "     Charges Billed by Courier Company (Rs.)  \\\n",
       "0                                      117.9   \n",
       "1                                      117.9   \n",
       "2                                      117.9   \n",
       "3                                      117.9   \n",
       "4                                      117.9   \n",
       "..                                       ...   \n",
       "396                                     90.2   \n",
       "397                                     90.2   \n",
       "398                                     90.2   \n",
       "399                                    174.5   \n",
       "400                                    174.5   \n",
       "\n",
       "     Weight slab charged by Courier Company (KG)  \\\n",
       "0                                            2.0   \n",
       "1                                            2.0   \n",
       "2                                            2.0   \n",
       "3                                            2.0   \n",
       "4                                            2.0   \n",
       "..                                           ...   \n",
       "396                                          1.0   \n",
       "397                                          1.0   \n",
       "398                                          1.0   \n",
       "399                                          3.0   \n",
       "400                                          3.0   \n",
       "\n",
       "     Difference Between Expected Charges and Billed Charges (Rs.)  \n",
       "0                                                -61.3             \n",
       "1                                                -61.3             \n",
       "2                                                -61.3             \n",
       "3                                                -61.3             \n",
       "4                                                -61.3             \n",
       "..                                                 ...             \n",
       "396                                              -44.8             \n",
       "397                                              -44.8             \n",
       "398                                              -44.8             \n",
       "399                                             -141.5             \n",
       "400                                             -141.5             \n",
       "\n",
       "[401 rows x 11 columns]"
      ]
     },
     "execution_count": 63,
     "metadata": {},
     "output_type": "execute_result"
    }
   ],
   "source": [
    "output1"
   ]
  },
  {
   "cell_type": "code",
   "execution_count": 64,
   "id": "7af05fd3",
   "metadata": {
    "ExecuteTime": {
     "end_time": "2023-08-29T10:01:22.897920Z",
     "start_time": "2023-08-29T10:01:22.883948Z"
    }
   },
   "outputs": [],
   "source": [
    "#creating the summary table"
   ]
  },
  {
   "cell_type": "code",
   "execution_count": 65,
   "id": "11e29cce",
   "metadata": {
    "ExecuteTime": {
     "end_time": "2023-08-29T10:01:22.928828Z",
     "start_time": "2023-08-29T10:01:22.901899Z"
    }
   },
   "outputs": [],
   "source": [
    "import numpy as np"
   ]
  },
  {
   "cell_type": "code",
   "execution_count": 66,
   "id": "5dc621d6",
   "metadata": {
    "ExecuteTime": {
     "end_time": "2023-08-29T10:01:22.960232Z",
     "start_time": "2023-08-29T10:01:22.931821Z"
    }
   },
   "outputs": [],
   "source": [
    "correctly_charged = output1[output1['Difference Between Expected Charges and Billed Charges (Rs.)'] == 0.0]\n",
    "correctly = [\"Total Orders where X has been correctly charged\", len(correctly_charged), sum(correctly_charged['Charges Billed by Courier Company (Rs.)'])]\n",
    "\n",
    "over_charged = output1[output1['Difference Between Expected Charges and Billed Charges (Rs.)'] < 0.0]\n",
    "over = [\"Total Orders where X has been over charged\", len(over_charged), np.absolute(sum(over_charged['Difference Between Expected Charges and Billed Charges (Rs.)']))]\n",
    "\n",
    "under_charged = output1[output1['Difference Between Expected Charges and Billed Charges (Rs.)'] > 0.0]\n",
    "under = [\"Total Orders where X has been under charged\", len(under_charged), np.absolute(sum(under_charged['Difference Between Expected Charges and Billed Charges (Rs.)']))]"
   ]
  },
  {
   "cell_type": "code",
   "execution_count": 67,
   "id": "f3b733ce",
   "metadata": {
    "ExecuteTime": {
     "end_time": "2023-08-29T10:01:22.976242Z",
     "start_time": "2023-08-29T10:01:22.963224Z"
    }
   },
   "outputs": [],
   "source": [
    "#creating a DataFrame from the results\n",
    "output2 = pd.DataFrame([correctly, over, under], columns=['Description', 'Count', 'Amount (Rs.)'])"
   ]
  },
  {
   "cell_type": "code",
   "execution_count": 68,
   "id": "006569b1",
   "metadata": {
    "ExecuteTime": {
     "end_time": "2023-08-29T10:01:23.008159Z",
     "start_time": "2023-08-29T10:01:22.979235Z"
    }
   },
   "outputs": [
    {
     "data": {
      "text/html": [
       "<div>\n",
       "<style scoped>\n",
       "    .dataframe tbody tr th:only-of-type {\n",
       "        vertical-align: middle;\n",
       "    }\n",
       "\n",
       "    .dataframe tbody tr th {\n",
       "        vertical-align: top;\n",
       "    }\n",
       "\n",
       "    .dataframe thead th {\n",
       "        text-align: right;\n",
       "    }\n",
       "</style>\n",
       "<table border=\"1\" class=\"dataframe\">\n",
       "  <thead>\n",
       "    <tr style=\"text-align: right;\">\n",
       "      <th></th>\n",
       "      <th>Description</th>\n",
       "      <th>Count</th>\n",
       "      <th>Amount (Rs.)</th>\n",
       "    </tr>\n",
       "  </thead>\n",
       "  <tbody>\n",
       "    <tr>\n",
       "      <th>0</th>\n",
       "      <td>Total Orders where X has been correctly charged</td>\n",
       "      <td>12</td>\n",
       "      <td>507.6000</td>\n",
       "    </tr>\n",
       "    <tr>\n",
       "      <th>1</th>\n",
       "      <td>Total Orders where X has been over charged</td>\n",
       "      <td>382</td>\n",
       "      <td>33044.2672</td>\n",
       "    </tr>\n",
       "    <tr>\n",
       "      <th>2</th>\n",
       "      <td>Total Orders where X has been under charged</td>\n",
       "      <td>7</td>\n",
       "      <td>109.2000</td>\n",
       "    </tr>\n",
       "  </tbody>\n",
       "</table>\n",
       "</div>"
      ],
      "text/plain": [
       "                                       Description  Count  Amount (Rs.)\n",
       "0  Total Orders where X has been correctly charged     12      507.6000\n",
       "1       Total Orders where X has been over charged    382    33044.2672\n",
       "2      Total Orders where X has been under charged      7      109.2000"
      ]
     },
     "execution_count": 68,
     "metadata": {},
     "output_type": "execute_result"
    }
   ],
   "source": [
    "output2"
   ]
  },
  {
   "cell_type": "code",
   "execution_count": 69,
   "id": "bfe8dd32",
   "metadata": {
    "ExecuteTime": {
     "end_time": "2023-08-29T10:01:23.213607Z",
     "start_time": "2023-08-29T10:01:23.013145Z"
    }
   },
   "outputs": [],
   "source": [
    "# saving to Excel with two workbook as calculation and summary table\n",
    "with pd.ExcelWriter('Result.xlsx', engine='openpyxl', mode='w') as writer:\n",
    "    output1.to_excel(writer, sheet_name='Calculations', index=False)\n",
    "    output2.to_excel(writer, sheet_name='Summary', index=False)"
   ]
  },
  {
   "cell_type": "code",
   "execution_count": null,
   "id": "49c53a0c",
   "metadata": {},
   "outputs": [],
   "source": []
  }
 ],
 "metadata": {
  "kernelspec": {
   "display_name": "Python 3 (ipykernel)",
   "language": "python",
   "name": "python3"
  },
  "language_info": {
   "codemirror_mode": {
    "name": "ipython",
    "version": 3
   },
   "file_extension": ".py",
   "mimetype": "text/x-python",
   "name": "python",
   "nbconvert_exporter": "python",
   "pygments_lexer": "ipython3",
   "version": "3.10.9"
  }
 },
 "nbformat": 4,
 "nbformat_minor": 5
}
